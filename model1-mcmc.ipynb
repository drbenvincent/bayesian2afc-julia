{
 "cells": [
  {
   "cell_type": "markdown",
   "metadata": {},
   "source": [
    "# Model 1 - MCMC with Turing.jl"
   ]
  },
  {
   "cell_type": "markdown",
   "metadata": {},
   "source": [
    "## Install Turing.jl (only need to do this once)\n",
    "See the Turing instructions on their [wiki](https://github.com/yebai/Turing.jl/wiki/Get-started#install-turingjl) for more info."
   ]
  },
  {
   "cell_type": "code",
   "execution_count": 1,
   "metadata": {
    "collapsed": true
   },
   "outputs": [],
   "source": [
    "#Pkg.add(\"Turing\")\n",
    "#Pkg.update()\n",
    "#Pkg.checkout(\"Turing\", \"master\") \n",
    "#Pkg.build(\"Turing\")\n",
    "#Pkg.test(\"Turing\")"
   ]
  },
  {
   "cell_type": "markdown",
   "metadata": {},
   "source": [
    "## Setup"
   ]
  },
  {
   "cell_type": "code",
   "execution_count": 2,
   "metadata": {},
   "outputs": [
    {
     "name": "stderr",
     "output_type": "stream",
     "text": [
      "\u001b[1m\u001b[33mWARNING: \u001b[39m\u001b[22m\u001b[33mEnvironment variable CMDSTAN_HOME not found. Use set_cmdstan_home!.\u001b[39m\n"
     ]
    },
    {
     "name": "stdout",
     "output_type": "stream",
     "text": [
      "[Turing]: AD chunk size is set as 40\n"
     ]
    }
   ],
   "source": [
    "using Turing"
   ]
  },
  {
   "cell_type": "code",
   "execution_count": 3,
   "metadata": {
    "collapsed": true
   },
   "outputs": [],
   "source": [
    "using Distributions, StatsFuns\n",
    "using Plots\n",
    "using Mamba: describe, plot"
   ]
  },
  {
   "cell_type": "markdown",
   "metadata": {},
   "source": [
    "## STEP 1: define data"
   ]
  },
  {
   "cell_type": "code",
   "execution_count": 4,
   "metadata": {
    "collapsed": true
   },
   "outputs": [],
   "source": [
    "data = Dict()\n",
    "data[\"T\"] = 100\n",
    "data[\"k\"] = [50, 51, 57, 55, 63, 62, 82, 94, 99, 100]\n",
    "data[\"Δμ\"] = [0.0100, 0.0215, 0.0464, 0.1000, 0.2154, 0.4642, 1.0000, 2.1544, 4.6416, 10.0000];"
   ]
  },
  {
   "cell_type": "code",
   "execution_count": 5,
   "metadata": {},
   "outputs": [
    {
     "data": {
      "text/html": [
       "<?xml version=\"1.0\" encoding=\"utf-8\"?>\n",
       "<svg xmlns=\"http://www.w3.org/2000/svg\" xmlns:xlink=\"http://www.w3.org/1999/xlink\" width=\"600\" height=\"400\" viewBox=\"0 0 600 400\">\n",
       "<defs>\n",
       "  <clipPath id=\"clip3800\">\n",
       "    <rect x=\"0\" y=\"0\" width=\"600\" height=\"400\"/>\n",
       "  </clipPath>\n",
       "</defs>\n",
       "<polygon clip-path=\"url(#clip3800)\" points=\"\n",
       "0,400 600,400 600,0 0,0 \n",
       "  \" fill=\"#ffffff\" fill-opacity=\"1\"/>\n",
       "<defs>\n",
       "  <clipPath id=\"clip3801\">\n",
       "    <rect x=\"120\" y=\"0\" width=\"421\" height=\"400\"/>\n",
       "  </clipPath>\n",
       "</defs>\n",
       "<polygon clip-path=\"url(#clip3800)\" points=\"\n",
       "47.9701,360.065 580.315,360.065 580.315,11.811 47.9701,11.811 \n",
       "  \" fill=\"#ffffff\" fill-opacity=\"1\"/>\n",
       "<defs>\n",
       "  <clipPath id=\"clip3802\">\n",
       "    <rect x=\"47\" y=\"11\" width=\"533\" height=\"349\"/>\n",
       "  </clipPath>\n",
       "</defs>\n",
       "<polyline clip-path=\"url(#clip3802)\" style=\"stroke:#000000; stroke-width:0.5; stroke-opacity:0.1; fill:none\" points=\"\n",
       "  107.034,360.065 107.034,11.811 \n",
       "  \"/>\n",
       "<polyline clip-path=\"url(#clip3802)\" style=\"stroke:#000000; stroke-width:0.5; stroke-opacity:0.1; fill:none\" points=\"\n",
       "  179.737,360.065 179.737,11.811 \n",
       "  \"/>\n",
       "<polyline clip-path=\"url(#clip3802)\" style=\"stroke:#000000; stroke-width:0.5; stroke-opacity:0.1; fill:none\" points=\"\n",
       "  252.439,360.065 252.439,11.811 \n",
       "  \"/>\n",
       "<polyline clip-path=\"url(#clip3802)\" style=\"stroke:#000000; stroke-width:0.5; stroke-opacity:0.1; fill:none\" points=\"\n",
       "  325.142,360.065 325.142,11.811 \n",
       "  \"/>\n",
       "<polyline clip-path=\"url(#clip3802)\" style=\"stroke:#000000; stroke-width:0.5; stroke-opacity:0.1; fill:none\" points=\"\n",
       "  397.845,360.065 397.845,11.811 \n",
       "  \"/>\n",
       "<polyline clip-path=\"url(#clip3802)\" style=\"stroke:#000000; stroke-width:0.5; stroke-opacity:0.1; fill:none\" points=\"\n",
       "  470.547,360.065 470.547,11.811 \n",
       "  \"/>\n",
       "<polyline clip-path=\"url(#clip3802)\" style=\"stroke:#000000; stroke-width:0.5; stroke-opacity:0.1; fill:none\" points=\"\n",
       "  543.25,360.065 543.25,11.811 \n",
       "  \"/>\n",
       "<polyline clip-path=\"url(#clip3802)\" style=\"stroke:#000000; stroke-width:0.5; stroke-opacity:0.1; fill:none\" points=\"\n",
       "  47.9701,350.209 580.315,350.209 \n",
       "  \"/>\n",
       "<polyline clip-path=\"url(#clip3802)\" style=\"stroke:#000000; stroke-width:0.5; stroke-opacity:0.1; fill:none\" points=\"\n",
       "  47.9701,284.501 580.315,284.501 \n",
       "  \"/>\n",
       "<polyline clip-path=\"url(#clip3802)\" style=\"stroke:#000000; stroke-width:0.5; stroke-opacity:0.1; fill:none\" points=\"\n",
       "  47.9701,218.792 580.315,218.792 \n",
       "  \"/>\n",
       "<polyline clip-path=\"url(#clip3802)\" style=\"stroke:#000000; stroke-width:0.5; stroke-opacity:0.1; fill:none\" points=\"\n",
       "  47.9701,153.084 580.315,153.084 \n",
       "  \"/>\n",
       "<polyline clip-path=\"url(#clip3802)\" style=\"stroke:#000000; stroke-width:0.5; stroke-opacity:0.1; fill:none\" points=\"\n",
       "  47.9701,87.3757 580.315,87.3757 \n",
       "  \"/>\n",
       "<polyline clip-path=\"url(#clip3802)\" style=\"stroke:#000000; stroke-width:0.5; stroke-opacity:0.1; fill:none\" points=\"\n",
       "  47.9701,21.6673 580.315,21.6673 \n",
       "  \"/>\n",
       "<polyline clip-path=\"url(#clip3800)\" style=\"stroke:#000000; stroke-width:1; stroke-opacity:1; fill:none\" points=\"\n",
       "  47.9701,360.065 580.315,360.065 \n",
       "  \"/>\n",
       "<polyline clip-path=\"url(#clip3800)\" style=\"stroke:#000000; stroke-width:1; stroke-opacity:1; fill:none\" points=\"\n",
       "  47.9701,360.065 47.9701,11.811 \n",
       "  \"/>\n",
       "<polyline clip-path=\"url(#clip3800)\" style=\"stroke:#000000; stroke-width:1; stroke-opacity:1; fill:none\" points=\"\n",
       "  107.034,360.065 107.034,354.842 \n",
       "  \"/>\n",
       "<polyline clip-path=\"url(#clip3800)\" style=\"stroke:#000000; stroke-width:1; stroke-opacity:1; fill:none\" points=\"\n",
       "  179.737,360.065 179.737,354.842 \n",
       "  \"/>\n",
       "<polyline clip-path=\"url(#clip3800)\" style=\"stroke:#000000; stroke-width:1; stroke-opacity:1; fill:none\" points=\"\n",
       "  252.439,360.065 252.439,354.842 \n",
       "  \"/>\n",
       "<polyline clip-path=\"url(#clip3800)\" style=\"stroke:#000000; stroke-width:1; stroke-opacity:1; fill:none\" points=\"\n",
       "  325.142,360.065 325.142,354.842 \n",
       "  \"/>\n",
       "<polyline clip-path=\"url(#clip3800)\" style=\"stroke:#000000; stroke-width:1; stroke-opacity:1; fill:none\" points=\"\n",
       "  397.845,360.065 397.845,354.842 \n",
       "  \"/>\n",
       "<polyline clip-path=\"url(#clip3800)\" style=\"stroke:#000000; stroke-width:1; stroke-opacity:1; fill:none\" points=\"\n",
       "  470.547,360.065 470.547,354.842 \n",
       "  \"/>\n",
       "<polyline clip-path=\"url(#clip3800)\" style=\"stroke:#000000; stroke-width:1; stroke-opacity:1; fill:none\" points=\"\n",
       "  543.25,360.065 543.25,354.842 \n",
       "  \"/>\n",
       "<polyline clip-path=\"url(#clip3800)\" style=\"stroke:#000000; stroke-width:1; stroke-opacity:1; fill:none\" points=\"\n",
       "  47.9701,350.209 55.9553,350.209 \n",
       "  \"/>\n",
       "<polyline clip-path=\"url(#clip3800)\" style=\"stroke:#000000; stroke-width:1; stroke-opacity:1; fill:none\" points=\"\n",
       "  47.9701,284.501 55.9553,284.501 \n",
       "  \"/>\n",
       "<polyline clip-path=\"url(#clip3800)\" style=\"stroke:#000000; stroke-width:1; stroke-opacity:1; fill:none\" points=\"\n",
       "  47.9701,218.792 55.9553,218.792 \n",
       "  \"/>\n",
       "<polyline clip-path=\"url(#clip3800)\" style=\"stroke:#000000; stroke-width:1; stroke-opacity:1; fill:none\" points=\"\n",
       "  47.9701,153.084 55.9553,153.084 \n",
       "  \"/>\n",
       "<polyline clip-path=\"url(#clip3800)\" style=\"stroke:#000000; stroke-width:1; stroke-opacity:1; fill:none\" points=\"\n",
       "  47.9701,87.3757 55.9553,87.3757 \n",
       "  \"/>\n",
       "<polyline clip-path=\"url(#clip3800)\" style=\"stroke:#000000; stroke-width:1; stroke-opacity:1; fill:none\" points=\"\n",
       "  47.9701,21.6673 55.9553,21.6673 \n",
       "  \"/>\n",
       "<g clip-path=\"url(#clip3800)\">\n",
       "<text style=\"fill:#000000; fill-opacity:1; font-family:Arial,Helvetica Neue,Helvetica,sans-serif; font-size:12; text-anchor:middle;\" transform=\"rotate(0, 107.034, 373.865)\" x=\"107.034\" y=\"373.865\">-4</text>\n",
       "</g>\n",
       "<g clip-path=\"url(#clip3800)\">\n",
       "<text style=\"fill:#000000; fill-opacity:1; font-family:Arial,Helvetica Neue,Helvetica,sans-serif; font-size:12; text-anchor:middle;\" transform=\"rotate(0, 179.737, 373.865)\" x=\"179.737\" y=\"373.865\">-3</text>\n",
       "</g>\n",
       "<g clip-path=\"url(#clip3800)\">\n",
       "<text style=\"fill:#000000; fill-opacity:1; font-family:Arial,Helvetica Neue,Helvetica,sans-serif; font-size:12; text-anchor:middle;\" transform=\"rotate(0, 252.439, 373.865)\" x=\"252.439\" y=\"373.865\">-2</text>\n",
       "</g>\n",
       "<g clip-path=\"url(#clip3800)\">\n",
       "<text style=\"fill:#000000; fill-opacity:1; font-family:Arial,Helvetica Neue,Helvetica,sans-serif; font-size:12; text-anchor:middle;\" transform=\"rotate(0, 325.142, 373.865)\" x=\"325.142\" y=\"373.865\">-1</text>\n",
       "</g>\n",
       "<g clip-path=\"url(#clip3800)\">\n",
       "<text style=\"fill:#000000; fill-opacity:1; font-family:Arial,Helvetica Neue,Helvetica,sans-serif; font-size:12; text-anchor:middle;\" transform=\"rotate(0, 397.845, 373.865)\" x=\"397.845\" y=\"373.865\">0</text>\n",
       "</g>\n",
       "<g clip-path=\"url(#clip3800)\">\n",
       "<text style=\"fill:#000000; fill-opacity:1; font-family:Arial,Helvetica Neue,Helvetica,sans-serif; font-size:12; text-anchor:middle;\" transform=\"rotate(0, 470.547, 373.865)\" x=\"470.547\" y=\"373.865\">1</text>\n",
       "</g>\n",
       "<g clip-path=\"url(#clip3800)\">\n",
       "<text style=\"fill:#000000; fill-opacity:1; font-family:Arial,Helvetica Neue,Helvetica,sans-serif; font-size:12; text-anchor:middle;\" transform=\"rotate(0, 543.25, 373.865)\" x=\"543.25\" y=\"373.865\">2</text>\n",
       "</g>\n",
       "<g clip-path=\"url(#clip3800)\">\n",
       "<text style=\"fill:#000000; fill-opacity:1; font-family:Arial,Helvetica Neue,Helvetica,sans-serif; font-size:12; text-anchor:end;\" transform=\"rotate(0, 41.9701, 354.709)\" x=\"41.9701\" y=\"354.709\">0.5</text>\n",
       "</g>\n",
       "<g clip-path=\"url(#clip3800)\">\n",
       "<text style=\"fill:#000000; fill-opacity:1; font-family:Arial,Helvetica Neue,Helvetica,sans-serif; font-size:12; text-anchor:end;\" transform=\"rotate(0, 41.9701, 289.001)\" x=\"41.9701\" y=\"289.001\">0.6</text>\n",
       "</g>\n",
       "<g clip-path=\"url(#clip3800)\">\n",
       "<text style=\"fill:#000000; fill-opacity:1; font-family:Arial,Helvetica Neue,Helvetica,sans-serif; font-size:12; text-anchor:end;\" transform=\"rotate(0, 41.9701, 223.292)\" x=\"41.9701\" y=\"223.292\">0.7</text>\n",
       "</g>\n",
       "<g clip-path=\"url(#clip3800)\">\n",
       "<text style=\"fill:#000000; fill-opacity:1; font-family:Arial,Helvetica Neue,Helvetica,sans-serif; font-size:12; text-anchor:end;\" transform=\"rotate(0, 41.9701, 157.584)\" x=\"41.9701\" y=\"157.584\">0.8</text>\n",
       "</g>\n",
       "<g clip-path=\"url(#clip3800)\">\n",
       "<text style=\"fill:#000000; fill-opacity:1; font-family:Arial,Helvetica Neue,Helvetica,sans-serif; font-size:12; text-anchor:end;\" transform=\"rotate(0, 41.9701, 91.8757)\" x=\"41.9701\" y=\"91.8757\">0.9</text>\n",
       "</g>\n",
       "<g clip-path=\"url(#clip3800)\">\n",
       "<text style=\"fill:#000000; fill-opacity:1; font-family:Arial,Helvetica Neue,Helvetica,sans-serif; font-size:12; text-anchor:end;\" transform=\"rotate(0, 41.9701, 26.1673)\" x=\"41.9701\" y=\"26.1673\">1.0</text>\n",
       "</g>\n",
       "<g clip-path=\"url(#clip3800)\">\n",
       "<text style=\"fill:#000000; fill-opacity:1; font-family:Arial,Helvetica Neue,Helvetica,sans-serif; font-size:16; text-anchor:middle;\" transform=\"rotate(0, 314.143, 397.6)\" x=\"314.143\" y=\"397.6\">log signal instensity, ??</text>\n",
       "</g>\n",
       "<g clip-path=\"url(#clip3800)\">\n",
       "<text style=\"fill:#000000; fill-opacity:1; font-family:Arial,Helvetica Neue,Helvetica,sans-serif; font-size:16; text-anchor:middle;\" transform=\"rotate(-90, 14.4, 185.938)\" x=\"14.4\" y=\"185.938\">proportion correct, k/T</text>\n",
       "</g>\n",
       "<circle clip-path=\"url(#clip3802)\" style=\"fill:#000000; stroke:none; fill-opacity:1\" cx=\"63.0365\" cy=\"350.209\" r=\"4\"/>\n",
       "<circle clip-path=\"url(#clip3802)\" style=\"fill:#009af9; stroke:none; fill-opacity:1\" cx=\"63.0365\" cy=\"350.209\" r=\"3\"/>\n",
       "<circle clip-path=\"url(#clip3802)\" style=\"fill:#000000; stroke:none; fill-opacity:1\" cx=\"118.688\" cy=\"343.638\" r=\"4\"/>\n",
       "<circle clip-path=\"url(#clip3802)\" style=\"fill:#009af9; stroke:none; fill-opacity:1\" cx=\"118.688\" cy=\"343.638\" r=\"3\"/>\n",
       "<circle clip-path=\"url(#clip3802)\" style=\"fill:#000000; stroke:none; fill-opacity:1\" cx=\"174.614\" cy=\"304.213\" r=\"4\"/>\n",
       "<circle clip-path=\"url(#clip3802)\" style=\"fill:#009af9; stroke:none; fill-opacity:1\" cx=\"174.614\" cy=\"304.213\" r=\"3\"/>\n",
       "<circle clip-path=\"url(#clip3802)\" style=\"fill:#000000; stroke:none; fill-opacity:1\" cx=\"230.441\" cy=\"317.355\" r=\"4\"/>\n",
       "<circle clip-path=\"url(#clip3802)\" style=\"fill:#009af9; stroke:none; fill-opacity:1\" cx=\"230.441\" cy=\"317.355\" r=\"3\"/>\n",
       "<circle clip-path=\"url(#clip3802)\" style=\"fill:#000000; stroke:none; fill-opacity:1\" cx=\"286.227\" cy=\"264.788\" r=\"4\"/>\n",
       "<circle clip-path=\"url(#clip3802)\" style=\"fill:#009af9; stroke:none; fill-opacity:1\" cx=\"286.227\" cy=\"264.788\" r=\"3\"/>\n",
       "<circle clip-path=\"url(#clip3802)\" style=\"fill:#000000; stroke:none; fill-opacity:1\" cx=\"342.05\" cy=\"271.359\" r=\"4\"/>\n",
       "<circle clip-path=\"url(#clip3802)\" style=\"fill:#009af9; stroke:none; fill-opacity:1\" cx=\"342.05\" cy=\"271.359\" r=\"3\"/>\n",
       "<circle clip-path=\"url(#clip3802)\" style=\"fill:#000000; stroke:none; fill-opacity:1\" cx=\"397.845\" cy=\"139.942\" r=\"4\"/>\n",
       "<circle clip-path=\"url(#clip3802)\" style=\"fill:#009af9; stroke:none; fill-opacity:1\" cx=\"397.845\" cy=\"139.942\" r=\"3\"/>\n",
       "<circle clip-path=\"url(#clip3802)\" style=\"fill:#000000; stroke:none; fill-opacity:1\" cx=\"453.645\" cy=\"61.0923\" r=\"4\"/>\n",
       "<circle clip-path=\"url(#clip3802)\" style=\"fill:#009af9; stroke:none; fill-opacity:1\" cx=\"453.645\" cy=\"61.0923\" r=\"3\"/>\n",
       "<circle clip-path=\"url(#clip3802)\" style=\"fill:#000000; stroke:none; fill-opacity:1\" cx=\"509.447\" cy=\"28.2381\" r=\"4\"/>\n",
       "<circle clip-path=\"url(#clip3802)\" style=\"fill:#009af9; stroke:none; fill-opacity:1\" cx=\"509.447\" cy=\"28.2381\" r=\"3\"/>\n",
       "<circle clip-path=\"url(#clip3802)\" style=\"fill:#000000; stroke:none; fill-opacity:1\" cx=\"565.249\" cy=\"21.6673\" r=\"4\"/>\n",
       "<circle clip-path=\"url(#clip3802)\" style=\"fill:#009af9; stroke:none; fill-opacity:1\" cx=\"565.249\" cy=\"21.6673\" r=\"3\"/>\n",
       "</svg>\n"
      ]
     },
     "execution_count": 5,
     "metadata": {},
     "output_type": "execute_result"
    }
   ],
   "source": [
    "plot_data_space = scatter(log.(data[\"Δμ\"]), data[\"k\"]./data[\"T\"],\n",
    "    xlabel = \"log signal instensity, Δμ\", #xscale = :log,\n",
    "    ylabel = \"proportion correct, k/T\",\n",
    "    legend = false)"
   ]
  },
  {
   "cell_type": "markdown",
   "metadata": {},
   "source": [
    "## STEP 2: conduct inference\n",
    "First we are going to define a model. This is the way of doing it for the Turing package. I managed to convert this over from the JAGS specification (see the original Matlab repo) with not so much trouble. It's pretty nice in fact."
   ]
  },
  {
   "cell_type": "code",
   "execution_count": 6,
   "metadata": {},
   "outputs": [
    {
     "data": {
      "text/plain": [
       "model1 (generic function with 4 methods)"
      ]
     },
     "execution_count": 6,
     "metadata": {},
     "output_type": "execute_result"
    }
   ],
   "source": [
    "@model model1(k, Δμ, T) = begin\n",
    "    Φ(x) = normcdf(0, 1, x)\n",
    "    PC(Δμ, σ²) = Φ(Δμ/sqrt(2σ²))\n",
    "    σ² ~ Uniform(0,100)\n",
    "    for c ∈ 1:length(k)\n",
    "        k[c] ~ Binomial(T, PC(Δμ[c],σ²))\n",
    "    end\n",
    "    return σ²\n",
    "end"
   ]
  },
  {
   "cell_type": "markdown",
   "metadata": {},
   "source": [
    "Now do sampling. Note that there are a variety of sampling algorithms we can use."
   ]
  },
  {
   "cell_type": "code",
   "execution_count": 7,
   "metadata": {},
   "outputs": [
    {
     "name": "stdout",
     "output_type": "stream",
     "text": [
      "[Turing]:  Assume - `σ²` is a parameter\n",
      " @~(::ANY, ::ANY) at compiler.jl:76\n",
      "[Turing]:  Observe - `k` is an observation\n",
      " @~(::ANY, ::ANY) at compiler.jl:57\n"
     ]
    },
    {
     "name": "stderr",
     "output_type": "stream",
     "text": [
      "\r",
      "\u001b[32m[PG] Sampling...  0%  ETA: 0:05:11\u001b[39m"
     ]
    },
    {
     "name": "stdout",
     "output_type": "stream",
     "text": [
      "[PG] Finished with\n",
      "  Running time    = 1.9845896890000014;\n"
     ]
    },
    {
     "name": "stderr",
     "output_type": "stream",
     "text": [
      "\r",
      "\u001b[32m[PG] Sampling... 98%  ETA: 0:00:00\u001b[39m\r",
      "\u001b[32m[PG] Sampling...100% Time: 0:00:02\u001b[39m\n"
     ]
    },
    {
     "data": {
      "text/plain": [
       "300-element Array{Float64,1}:\n",
       " 1.82396 \n",
       " 1.44559 \n",
       " 1.44559 \n",
       " 1.44559 \n",
       " 1.44559 \n",
       " 1.44559 \n",
       " 1.44559 \n",
       " 1.44559 \n",
       " 1.44559 \n",
       " 0.934792\n",
       " 0.934792\n",
       " 0.934792\n",
       " 0.934792\n",
       " ⋮       \n",
       " 1.25379 \n",
       " 1.25379 \n",
       " 1.25379 \n",
       " 1.25379 \n",
       " 1.25379 \n",
       " 1.25379 \n",
       " 1.25379 \n",
       " 1.25379 \n",
       " 1.25379 \n",
       " 1.25379 \n",
       " 0.986988\n",
       " 0.986988"
      ]
     },
     "execution_count": 7,
     "metadata": {},
     "output_type": "execute_result"
    }
   ],
   "source": [
    "n_samples = 300\n",
    "samples = sample( model1(data[\"k\"], data[\"Δμ\"], data[\"T\"]), PG(50,n_samples))\n",
    "σ²posterior = samples[:σ²]\n",
    "\n",
    "# TODO: plot histogram of σ²posterior"
   ]
  },
  {
   "cell_type": "markdown",
   "metadata": {},
   "source": [
    "## STEP 3: posterior prediction\n",
    "We'll now write our own function to do posterior prediction given the posterior samples of `σ²`"
   ]
  },
  {
   "cell_type": "code",
   "execution_count": 8,
   "metadata": {},
   "outputs": [
    {
     "data": {
      "text/plain": [
       "10×300 Array{Int64,2}:\n",
       "  45   54   45   58   53   45   50   52  …   47   48   65   51   48   45   45\n",
       "  48   43   45   49   63   50   45   47      62   50   46   58   54   50   52\n",
       "  54   49   48   49   49   49   46   56      48   56   61   47   56   59   60\n",
       "  46   49   56   51   49   49   49   47      50   54   52   54   53   49   50\n",
       "  56   57   58   59   54   51   58   57      58   45   53   52   58   68   60\n",
       "  61   57   59   51   57   60   55   59  …   67   57   62   62   67   60   61\n",
       "  70   81   84   77   76   74   68   70      77   76   69   72   64   82   81\n",
       "  79   92   91   89   89   91   88   86      93   91   89   93   96   95   96\n",
       "  98   98   99  100  100  100  100  100     100   99  100  100  100  100  100\n",
       " 100  100  100  100  100  100  100  100     100  100  100  100  100  100  100"
      ]
     },
     "execution_count": 8,
     "metadata": {},
     "output_type": "execute_result"
    }
   ],
   "source": [
    "function posterior_prediction(T::Int64, Δμ_list, σ²samples)\n",
    "    Φ(x) = normcdf(0, 1, x)\n",
    "    PC(Δμ, σ²) = Φ(Δμ/sqrt(2σ²))\n",
    "    k_pred = zeros(n_samples, length(data[\"Δμ\"]))\n",
    "    k_pred = [rand(Binomial(T, PC(Δμ,σ²))) for Δμ ∈ Δμ_list, σ² ∈ σ²samples]\n",
    "end\n",
    "\n",
    "k_pred = posterior_prediction(data[\"T\"], data[\"Δμ\"], σ²posterior)\n",
    "# so now we have posterior predictive samples in k_pred.\n",
    "# Each row corresponds to an mcmc sample, each column corresponds to a value of Δμ\n",
    "\n",
    "\n",
    "# TODO: do summary stats or plotting of posterior predictions, and plot the actual data so we\n",
    "# can do model critique visually\n",
    "\n",
    "# TODO: can also do out of sample prediction simply by providing more values for Δμ"
   ]
  },
  {
   "cell_type": "code",
   "execution_count": null,
   "metadata": {
    "collapsed": true
   },
   "outputs": [],
   "source": []
  },
  {
   "cell_type": "markdown",
   "metadata": {},
   "source": [
    "## References\n",
    "Vincent, B. T. (2015). A tutorial on Bayesian models of perception. Journal of Mathematical Psychology, 66, 103–114. http://doi.org/10.1016/j.jmp.2015.02.001"
   ]
  }
 ],
 "metadata": {
  "kernelspec": {
   "display_name": "Julia 0.6.2",
   "language": "julia",
   "name": "julia-0.6"
  },
  "language_info": {
   "file_extension": ".jl",
   "mimetype": "application/julia",
   "name": "julia",
   "version": "0.6.2"
  }
 },
 "nbformat": 4,
 "nbformat_minor": 2
}
