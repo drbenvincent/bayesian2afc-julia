{
 "cells": [
  {
   "cell_type": "markdown",
   "metadata": {},
   "source": [
    "# Model 1 - MCMC with Turing.jl"
   ]
  },
  {
   "cell_type": "code",
   "execution_count": 16,
   "metadata": {},
   "outputs": [
    {
     "name": "stderr",
     "output_type": "stream",
     "text": [
      "\u001b[1m\u001b[36mINFO: \u001b[39m\u001b[22m\u001b[36mChecking out Turing master...\n",
      "\u001b[39m\u001b[1m\u001b[36mINFO: \u001b[39m\u001b[22m\u001b[36mPulling Turing latest master...\n",
      "\u001b[39m\u001b[1m\u001b[36mINFO: \u001b[39m\u001b[22m\u001b[36mCloning cache of DocStringExtensions from https://github.com/JuliaDocs/DocStringExtensions.jl.git\n",
      "\u001b[39m\u001b[1m\u001b[36mINFO: \u001b[39m\u001b[22m\u001b[36mCloning cache of Documenter from https://github.com/JuliaDocs/Documenter.jl.git\n",
      "\u001b[39m\u001b[1m\u001b[36mINFO: \u001b[39m\u001b[22m\u001b[36mCloning cache of Stan from https://github.com/goedman/Stan.jl.git\n",
      "\u001b[39m\u001b[1m\u001b[36mINFO: \u001b[39m\u001b[22m\u001b[36mInstalling DocStringExtensions v0.4.0\n",
      "\u001b[39m\u001b[1m\u001b[36mINFO: \u001b[39m\u001b[22m\u001b[36mInstalling Documenter v0.11.4\n",
      "\u001b[39m\u001b[1m\u001b[36mINFO: \u001b[39m\u001b[22m\u001b[36mInstalling Stan v2.0.1\n",
      "\u001b[39m\u001b[1m\u001b[36mINFO: \u001b[39m\u001b[22m\u001b[36mBuilding Homebrew\n",
      "\u001b[39m\u001b[1m\u001b[36mINFO: \u001b[39m\u001b[22m\u001b[36mBuilding Stan\n",
      "\u001b[39m"
     ]
    }
   ],
   "source": [
    "using Distributions, StatsFuns\n",
    "using Mamba: describe, plot\n",
    "\n",
    "using Turing\n",
    "Pkg.checkout(\"Turing\", \"master\") "
   ]
  },
  {
   "cell_type": "markdown",
   "metadata": {},
   "source": [
    "## STEP 1 - Define data"
   ]
  },
  {
   "cell_type": "code",
   "execution_count": 20,
   "metadata": {
    "collapsed": true
   },
   "outputs": [],
   "source": [
    "data = Dict()\n",
    "data[\"T\"] = 100\n",
    "data[\"k\"] = [50, 51, 57, 55, 63, 62, 82, 94, 99, 100]\n",
    "data[\"Δμ\"] = [0.0100, 0.0215, 0.0464, 0.1000, 0.2154, 0.4642, 1.0000, 2.1544, 4.6416, 10.0000];"
   ]
  },
  {
   "cell_type": "markdown",
   "metadata": {},
   "source": [
    "## STEP 2 - Parameter recovery"
   ]
  },
  {
   "cell_type": "markdown",
   "metadata": {},
   "source": [
    "First we are going to define a model. This is the way of doing it for the Turing package. I managed to convert this over from the JAGS specification (see the original Matlab repo) with not so much trouble. It's pretty nice in fact."
   ]
  },
  {
   "cell_type": "code",
   "execution_count": 21,
   "metadata": {},
   "outputs": [
    {
     "data": {
      "text/plain": [
       "model1 (generic function with 4 methods)"
      ]
     },
     "execution_count": 21,
     "metadata": {},
     "output_type": "execute_result"
    }
   ],
   "source": [
    "@model model1(k, Δμ, T) = begin\n",
    "    Φ(x) = normcdf.(0, 1, x)\n",
    "    PC(Δμ, σ²) = Φ(Δμ/sqrt(2σ²))\n",
    "    σ² ~ Uniform(0,100)\n",
    "    for c = 1:length(k)\n",
    "        k[c]       ~ rand( Binomial(T, PC(Δμ[c],σ²)) )\n",
    "        #k_pred[c] = rand( Binomial(T, PC(Δμ[c],σ²)) )\n",
    "    end\n",
    "    return k#, k_pred\n",
    "end\n",
    "\n",
    "# TODO: get posterior samples of k (called k_pred)"
   ]
  },
  {
   "cell_type": "markdown",
   "metadata": {
    "collapsed": true
   },
   "source": [
    "## Invoke sampling\n",
    "We will simultanously sample from the posterior distribution over $\\sigma^2$ as well as the posterior predictive"
   ]
  },
  {
   "cell_type": "code",
   "execution_count": 22,
   "metadata": {},
   "outputs": [
    {
     "name": "stderr",
     "output_type": "stream",
     "text": [
      "\u001b[1m\u001b[33mWARNING: \u001b[39m\u001b[22m\u001b[33mexp{T <: Number}(x::AbstractArray{T}) is deprecated, use exp.(x) instead.\u001b[39m\n",
      "Stacktrace:\n",
      " [1] \u001b[1mdepwarn\u001b[22m\u001b[22m\u001b[1m(\u001b[22m\u001b[22m::String, ::Symbol\u001b[1m)\u001b[22m\u001b[22m at \u001b[1m./deprecated.jl:70\u001b[22m\u001b[22m\n",
      " [2] \u001b[1mexp\u001b[22m\u001b[22m\u001b[1m(\u001b[22m\u001b[22m::Array{Float64,1}\u001b[1m)\u001b[22m\u001b[22m at \u001b[1m./deprecated.jl:57\u001b[22m\u001b[22m\n",
      " [3] \u001b[1mweights\u001b[22m\u001b[22m\u001b[1m(\u001b[22m\u001b[22m::Turing.ParticleContainer{Turing.Traces.Trace{:R}}\u001b[1m)\u001b[22m\u001b[22m at \u001b[1m/Applications/JuliaPro-0.6.0.1.app/Contents/Resources/pkgs-0.6.0.1/v0.6/Turing/src/core/container.jl:130\u001b[22m\u001b[22m\n",
      " [4] \u001b[1mconsume\u001b[22m\u001b[22m\u001b[1m(\u001b[22m\u001b[22m::Turing.ParticleContainer{Turing.Traces.Trace{:R}}\u001b[1m)\u001b[22m\u001b[22m at \u001b[1m/Applications/JuliaPro-0.6.0.1.app/Contents/Resources/pkgs-0.6.0.1/v0.6/Turing/src/core/container.jl:94\u001b[22m\u001b[22m\n",
      " [5] \u001b[1mstep\u001b[22m\u001b[22m\u001b[1m(\u001b[22m\u001b[22m::Function, ::Turing.Sampler{Turing.PG}, ::Turing.VarInfo\u001b[1m)\u001b[22m\u001b[22m at \u001b[1m/Applications/JuliaPro-0.6.0.1.app/Contents/Resources/pkgs-0.6.0.1/v0.6/Turing/src/samplers/pgibbs.jl:67\u001b[22m\u001b[22m\n",
      " [6] \u001b[1mmacro expansion\u001b[22m\u001b[22m at \u001b[1m./util.jl:293\u001b[22m\u001b[22m [inlined]\n",
      " [7] \u001b[1m#sample#85\u001b[22m\u001b[22m\u001b[1m(\u001b[22m\u001b[22m::Bool, ::Void, ::Int64, ::Function, ::Function, ::Turing.PG\u001b[1m)\u001b[22m\u001b[22m at \u001b[1m/Applications/JuliaPro-0.6.0.1.app/Contents/Resources/pkgs-0.6.0.1/v0.6/Turing/src/samplers/pgibbs.jl:114\u001b[22m\u001b[22m\n",
      " [8] \u001b[1msample\u001b[22m\u001b[22m\u001b[1m(\u001b[22m\u001b[22m::Function, ::Turing.PG\u001b[1m)\u001b[22m\u001b[22m at \u001b[1m/Applications/JuliaPro-0.6.0.1.app/Contents/Resources/pkgs-0.6.0.1/v0.6/Turing/src/samplers/pgibbs.jl:85\u001b[22m\u001b[22m\n",
      " [9] \u001b[1minclude_string\u001b[22m\u001b[22m\u001b[1m(\u001b[22m\u001b[22m::String, ::String\u001b[1m)\u001b[22m\u001b[22m at \u001b[1m./loading.jl:515\u001b[22m\u001b[22m\n",
      " [10] \u001b[1mexecute_request\u001b[22m\u001b[22m\u001b[1m(\u001b[22m\u001b[22m::ZMQ.Socket, ::IJulia.Msg\u001b[1m)\u001b[22m\u001b[22m at \u001b[1m/Applications/JuliaPro-0.6.0.1.app/Contents/Resources/pkgs-0.6.0.1/v0.6/IJulia/src/execute_request.jl:160\u001b[22m\u001b[22m\n",
      " [11] \u001b[1meventloop\u001b[22m\u001b[22m\u001b[1m(\u001b[22m\u001b[22m::ZMQ.Socket\u001b[1m)\u001b[22m\u001b[22m at \u001b[1m/Applications/JuliaPro-0.6.0.1.app/Contents/Resources/pkgs-0.6.0.1/v0.6/IJulia/src/eventloop.jl:8\u001b[22m\u001b[22m\n",
      " [12] \u001b[1m(::IJulia.##11#14)\u001b[22m\u001b[22m\u001b[1m(\u001b[22m\u001b[22m\u001b[1m)\u001b[22m\u001b[22m at \u001b[1m./task.jl:335\u001b[22m\u001b[22m\n",
      "while loading In[22], in expression starting on line 1\n",
      "\u001b[1m\u001b[33mWARNING: \u001b[39m\u001b[22m\u001b[33mconsume is now deprecated. Use Channels for inter-task communication.\u001b[39m\n",
      "Stacktrace:\n",
      " [1] \u001b[1mdepwarn\u001b[22m\u001b[22m\u001b[1m(\u001b[22m\u001b[22m::String, ::Symbol\u001b[1m)\u001b[22m\u001b[22m at \u001b[1m./deprecated.jl:70\u001b[22m\u001b[22m\n",
      " [2] \u001b[1mconsume\u001b[22m\u001b[22m\u001b[1m(\u001b[22m\u001b[22m::Task\u001b[1m)\u001b[22m\u001b[22m at \u001b[1m./deprecated.jl:946\u001b[22m\u001b[22m\n",
      " [3] \u001b[1mconsume\u001b[22m\u001b[22m\u001b[1m(\u001b[22m\u001b[22m::Turing.ParticleContainer{Turing.Traces.Trace{:R}}\u001b[1m)\u001b[22m\u001b[22m at \u001b[1m/Applications/JuliaPro-0.6.0.1.app/Contents/Resources/pkgs-0.6.0.1/v0.6/Turing/src/core/container.jl:101\u001b[22m\u001b[22m\n",
      " [4] \u001b[1mstep\u001b[22m\u001b[22m\u001b[1m(\u001b[22m\u001b[22m::Function, ::Turing.Sampler{Turing.PG}, ::Turing.VarInfo\u001b[1m)\u001b[22m\u001b[22m at \u001b[1m/Applications/JuliaPro-0.6.0.1.app/Contents/Resources/pkgs-0.6.0.1/v0.6/Turing/src/samplers/pgibbs.jl:67\u001b[22m\u001b[22m\n",
      " [5] \u001b[1mmacro expansion\u001b[22m\u001b[22m at \u001b[1m./util.jl:293\u001b[22m\u001b[22m [inlined]\n",
      " [6] \u001b[1m#sample#85\u001b[22m\u001b[22m\u001b[1m(\u001b[22m\u001b[22m::Bool, ::Void, ::Int64, ::Function, ::Function, ::Turing.PG\u001b[1m)\u001b[22m\u001b[22m at \u001b[1m/Applications/JuliaPro-0.6.0.1.app/Contents/Resources/pkgs-0.6.0.1/v0.6/Turing/src/samplers/pgibbs.jl:114\u001b[22m\u001b[22m\n",
      " [7] \u001b[1msample\u001b[22m\u001b[22m\u001b[1m(\u001b[22m\u001b[22m::Function, ::Turing.PG\u001b[1m)\u001b[22m\u001b[22m at \u001b[1m/Applications/JuliaPro-0.6.0.1.app/Contents/Resources/pkgs-0.6.0.1/v0.6/Turing/src/samplers/pgibbs.jl:85\u001b[22m\u001b[22m\n",
      " [8] \u001b[1minclude_string\u001b[22m\u001b[22m\u001b[1m(\u001b[22m\u001b[22m::String, ::String\u001b[1m)\u001b[22m\u001b[22m at \u001b[1m./loading.jl:515\u001b[22m\u001b[22m\n",
      " [9] \u001b[1mexecute_request\u001b[22m\u001b[22m\u001b[1m(\u001b[22m\u001b[22m::ZMQ.Socket, ::IJulia.Msg\u001b[1m)\u001b[22m\u001b[22m at \u001b[1m/Applications/JuliaPro-0.6.0.1.app/Contents/Resources/pkgs-0.6.0.1/v0.6/IJulia/src/execute_request.jl:160\u001b[22m\u001b[22m\n",
      " [10] \u001b[1meventloop\u001b[22m\u001b[22m\u001b[1m(\u001b[22m\u001b[22m::ZMQ.Socket\u001b[1m)\u001b[22m\u001b[22m at \u001b[1m/Applications/JuliaPro-0.6.0.1.app/Contents/Resources/pkgs-0.6.0.1/v0.6/IJulia/src/eventloop.jl:8\u001b[22m\u001b[22m\n",
      " [11] \u001b[1m(::IJulia.##11#14)\u001b[22m\u001b[22m\u001b[1m(\u001b[22m\u001b[22m\u001b[1m)\u001b[22m\u001b[22m at \u001b[1m./task.jl:335\u001b[22m\u001b[22m\n",
      "while loading In[22], in expression starting on line 1\n"
     ]
    },
    {
     "ename": "LoadError",
     "evalue": "\u001b[91mUndefVarError: σ² not defined\u001b[39m",
     "output_type": "error",
     "traceback": [
      "\u001b[91mUndefVarError: σ² not defined\u001b[39m",
      "",
      "Stacktrace:",
      " [1] \u001b[1mtry_yieldto\u001b[22m\u001b[22m\u001b[1m(\u001b[22m\u001b[22m::Base.##296#297{Task}, ::Task\u001b[1m)\u001b[22m\u001b[22m at \u001b[1m./event.jl:189\u001b[22m\u001b[22m",
      " [2] \u001b[1mwait\u001b[22m\u001b[22m\u001b[1m(\u001b[22m\u001b[22m\u001b[1m)\u001b[22m\u001b[22m at \u001b[1m./event.jl:234\u001b[22m\u001b[22m",
      " [3] \u001b[1mschedule_and_wait\u001b[22m\u001b[22m\u001b[1m(\u001b[22m\u001b[22m::Task, ::Void\u001b[1m)\u001b[22m\u001b[22m at \u001b[1m./event.jl:140\u001b[22m\u001b[22m",
      " [4] \u001b[1mconsume\u001b[22m\u001b[22m\u001b[1m(\u001b[22m\u001b[22m::Task\u001b[1m)\u001b[22m\u001b[22m at \u001b[1m./deprecated.jl:972\u001b[22m\u001b[22m",
      " [5] \u001b[1mconsume\u001b[22m\u001b[22m\u001b[1m(\u001b[22m\u001b[22m::Turing.ParticleContainer{Turing.Traces.Trace{:R}}\u001b[1m)\u001b[22m\u001b[22m at \u001b[1m/Applications/JuliaPro-0.6.0.1.app/Contents/Resources/pkgs-0.6.0.1/v0.6/Turing/src/core/container.jl:101\u001b[22m\u001b[22m",
      " [6] \u001b[1mstep\u001b[22m\u001b[22m\u001b[1m(\u001b[22m\u001b[22m::Function, ::Turing.Sampler{Turing.PG}, ::Turing.VarInfo\u001b[1m)\u001b[22m\u001b[22m at \u001b[1m/Applications/JuliaPro-0.6.0.1.app/Contents/Resources/pkgs-0.6.0.1/v0.6/Turing/src/samplers/pgibbs.jl:67\u001b[22m\u001b[22m",
      " [7] \u001b[1mmacro expansion\u001b[22m\u001b[22m at \u001b[1m./util.jl:293\u001b[22m\u001b[22m [inlined]",
      " [8] \u001b[1m#sample#85\u001b[22m\u001b[22m\u001b[1m(\u001b[22m\u001b[22m::Bool, ::Void, ::Int64, ::Function, ::Function, ::Turing.PG\u001b[1m)\u001b[22m\u001b[22m at \u001b[1m/Applications/JuliaPro-0.6.0.1.app/Contents/Resources/pkgs-0.6.0.1/v0.6/Turing/src/samplers/pgibbs.jl:114\u001b[22m\u001b[22m",
      " [9] \u001b[1msample\u001b[22m\u001b[22m\u001b[1m(\u001b[22m\u001b[22m::Function, ::Turing.PG\u001b[1m)\u001b[22m\u001b[22m at \u001b[1m/Applications/JuliaPro-0.6.0.1.app/Contents/Resources/pkgs-0.6.0.1/v0.6/Turing/src/samplers/pgibbs.jl:85\u001b[22m\u001b[22m"
     ]
    }
   ],
   "source": [
    "samples = sample( model1(data[\"k\"],data[\"Δμ\"], data[\"T\"]), PG(50,300));"
   ]
  },
  {
   "cell_type": "markdown",
   "metadata": {},
   "source": [
    "# Visualisation\n",
    "Plot data and posterior predictions in data space\n",
    "\n",
    "Plot posterior in parameter space"
   ]
  },
  {
   "cell_type": "code",
   "execution_count": null,
   "metadata": {
    "collapsed": true
   },
   "outputs": [],
   "source": [
    "describe(samples)\n"
   ]
  },
  {
   "cell_type": "code",
   "execution_count": 6,
   "metadata": {
    "collapsed": true
   },
   "outputs": [],
   "source": [
    "p1 = plot(samples)"
   ]
  },
  {
   "cell_type": "code",
   "execution_count": 7,
   "metadata": {
    "collapsed": true
   },
   "outputs": [],
   "source": []
  },
  {
   "cell_type": "markdown",
   "metadata": {},
   "source": [
    "## References\n",
    "Vincent, B. T. (2015). A tutorial on Bayesian models of perception. Journal of Mathematical Psychology, 66, 103–114. http://doi.org/10.1016/j.jmp.2015.02.001"
   ]
  }
 ],
 "metadata": {
  "kernelspec": {
   "display_name": "Julia 0.6.0",
   "language": "julia",
   "name": "julia-0.6"
  },
  "language_info": {
   "file_extension": ".jl",
   "mimetype": "application/julia",
   "name": "julia",
   "version": "0.6.0"
  }
 },
 "nbformat": 4,
 "nbformat_minor": 2
}
