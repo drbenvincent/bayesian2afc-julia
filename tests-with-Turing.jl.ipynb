{
 "cells": [
  {
   "cell_type": "markdown",
   "metadata": {},
   "source": [
    "# Testing how Turing.jl works"
   ]
  },
  {
   "cell_type": "markdown",
   "metadata": {},
   "source": [
    "Do this ONCE for installation"
   ]
  },
  {
   "cell_type": "code",
   "execution_count": null,
   "metadata": {
    "collapsed": true
   },
   "outputs": [],
   "source": [
    "Pkg.add(\"Turing\")\n",
    "\n",
    "# Switch to master branch; recommended\n",
    "Pkg.checkout(\"Turing\", \"master\") \n",
    "Pkg.build(\"Turing\")\n",
    "\n",
    "Pkg.test(\"Turing\")"
   ]
  },
  {
   "cell_type": "markdown",
   "metadata": {},
   "source": [
    "Setup packages we'll use"
   ]
  },
  {
   "cell_type": "code",
   "execution_count": 19,
   "metadata": {
    "collapsed": true
   },
   "outputs": [],
   "source": [
    "using Distributions, StatsFuns"
   ]
  },
  {
   "cell_type": "code",
   "execution_count": 20,
   "metadata": {
    "collapsed": true
   },
   "outputs": [],
   "source": [
    "using Mamba: describe, plot"
   ]
  },
  {
   "cell_type": "code",
   "execution_count": 21,
   "metadata": {},
   "outputs": [],
   "source": [
    "using Turing"
   ]
  },
  {
   "cell_type": "code",
   "execution_count": 22,
   "metadata": {},
   "outputs": [
    {
     "ename": "LoadError",
     "evalue": "\u001b[91mUndefVarError: @model not defined\u001b[39m",
     "output_type": "error",
     "traceback": [
      "\u001b[91mUndefVarError: @model not defined\u001b[39m",
      ""
     ]
    }
   ],
   "source": [
    "@model coin_flip(k, T) = begin\n",
    "    # prior\n",
    "    p ~ Uniform(0,1)\n",
    "    # likelihood\n",
    "    k ~ Binomial(T,p) \n",
    "    # posterior prediction\n",
    "    k_pred = rand(Binomial(T,p))\n",
    "    return p, k_pred\n",
    "end\n",
    "\n",
    "samples = sample( coin_flip(80,100), PG(50,300))\n",
    "describe(samples)"
   ]
  }
 ],
 "metadata": {
  "kernelspec": {
   "display_name": "Julia 0.6.0",
   "language": "julia",
   "name": "julia-0.6"
  },
  "language_info": {
   "file_extension": ".jl",
   "mimetype": "application/julia",
   "name": "julia",
   "version": "0.6.0"
  }
 },
 "nbformat": 4,
 "nbformat_minor": 2
}
