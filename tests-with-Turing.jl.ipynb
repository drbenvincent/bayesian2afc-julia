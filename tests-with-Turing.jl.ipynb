{
 "cells": [
  {
   "cell_type": "markdown",
   "metadata": {},
   "source": [
    "# Testing how Turing.jl works"
   ]
  },
  {
   "cell_type": "markdown",
   "metadata": {},
   "source": [
    "Do this ONCE for installation"
   ]
  },
  {
   "cell_type": "code",
   "execution_count": 1,
   "metadata": {},
   "outputs": [
    {
     "name": "stderr",
     "output_type": "stream",
     "text": [
      "\u001b[1m\u001b[36mINFO: \u001b[39m\u001b[22m\u001b[36mPackage Turing is already installed\n",
      "\u001b[39m"
     ]
    }
   ],
   "source": [
    "Pkg.add(\"Turing\")"
   ]
  },
  {
   "cell_type": "code",
   "execution_count": 6,
   "metadata": {},
   "outputs": [
    {
     "name": "stderr",
     "output_type": "stream",
     "text": [
      "\u001b[1m\u001b[36mINFO: \u001b[39m\u001b[22m\u001b[36mChecking out Turing master...\n",
      "\u001b[39m\u001b[1m\u001b[36mINFO: \u001b[39m\u001b[22m\u001b[36mPulling Turing latest master...\n",
      "\u001b[39m\u001b[1m\u001b[36mINFO: \u001b[39m\u001b[22m\u001b[36mNo packages to install, update or remove\n",
      "\u001b[39m\u001b[1m\u001b[36mINFO: \u001b[39m\u001b[22m\u001b[36mBuilding Homebrew\n",
      "\u001b[39m\u001b[1m\u001b[36mINFO: \u001b[39m\u001b[22m\u001b[36mBuilding Stan\n",
      "\u001b[39m\u001b[1m\u001b[36mINFO: \u001b[39m\u001b[22m\u001b[36mBuilding Rmath\n",
      "\u001b[39m\u001b[1m\u001b[36mINFO: \u001b[39m\u001b[22m\u001b[36mBuilding Cairo\n",
      "\u001b[39mWARNING: Compat.KERNEL is deprecated.\n",
      "  likely near /Applications/JuliaPro-0.6.0.1.app/Contents/Resources/pkgs-0.6.0.1/v0.6/Cairo/deps/build.jl:162\n",
      "WARNING: Compat.KERNEL is deprecated.\n",
      "  likely near /Applications/JuliaPro-0.6.0.1.app/Contents/Resources/pkgs-0.6.0.1/v0.6/Cairo/deps/build.jl:162\n",
      "in can_use at /Applications/JuliaPro-0.6.0.1.app/Contents/Resources/pkgs-0.6.0.1/v0.6/Homebrew/src/bindeps_integration.jl\n",
      "WARNING: Compat.KERNEL is deprecated.\n",
      "  likely near /Applications/JuliaPro-0.6.0.1.app/Contents/Resources/pkgs-0.6.0.1/v0.6/Cairo/deps/build.jl:162\n",
      "in package_available at /Applications/JuliaPro-0.6.0.1.app/Contents/Resources/pkgs-0.6.0.1/v0.6/Homebrew/src/bindeps_integration.jl\n",
      "Error: libpng: /Applications/JuliaPro-0.6.0.1.app/Contents/Resources/pkgs-0.6.0.1/v0.6/Homebrew/deps/usr/Library/Taps/homebrew/homebrew-core/Formula/libpng.rb:40: syntax error, unexpected tIDENTIFIER, expecting keyword_do or '{' or '('\n",
      "        png_structp png_ptr;\n",
      "                           ^\n",
      "/Applications/JuliaPro-0.6.0.1.app/Contents/Resources/pkgs-0.6.0.1/v0.6/Homebrew/deps/usr/Library/Taps/homebrew/homebrew-core/Formula/libpng.rb:42: syntax error, unexpected ',', expecting ')'\n",
      "        png_destroy_write_struct(&png_ptr, (png_infopp)NULL);\n",
      "                                          ^\n",
      "/Applications/JuliaPro-0.6.0.1.app/Contents/Resources/pkgs-0.6.0.1/v0.6/Homebrew/deps/usr/Library/Taps/homebrew/homebrew-core/Formula/libpng.rb:42: syntax error, unexpected tCONSTANT, expecting keyword_end\n",
      "        png_destroy_write_struct(&png_ptr, (png_infopp)NULL);\n",
      "                                                           ^\n",
      "/Applications/JuliaPro-0.6.0.1.app/Contents/Resources/pkgs-0.6.0.1/v0.6/Homebrew/deps/usr/Library/Taps/homebrew/homebrew-core/Formula/libpng.rb:44: syntax error, unexpected '}', expecting keyword_end\n",
      "Error: pixman: /Applications/JuliaPro-0.6.0.1.app/Contents/Resources/pkgs-0.6.0.1/v0.6/Homebrew/deps/usr/Library/Taps/homebrew/homebrew-core/Formula/pixman.rb:32: syntax error, unexpected *, expecting keyword_do or '{' or '('\n",
      "      int main(int argc, char *argv[])\n",
      "                               ^\n",
      "/Applications/JuliaPro-0.6.0.1.app/Contents/Resources/pkgs-0.6.0.1/v0.6/Homebrew/deps/usr/Library/Taps/homebrew/homebrew-core/Formula/pixman.rb:32: syntax error, unexpected ')', expecting '='\n",
      "/Applications/JuliaPro-0.6.0.1.app/Contents/Resources/pkgs-0.6.0.1/v0.6/Homebrew/deps/usr/Library/Taps/homebrew/homebrew-core/Formula/pixman.rb:34: syntax error, unexpected ',', expecting =>\n",
      "        pixman_color_t white = { 0xffff, 0xffff, 0xffff, 0xffff };\n",
      "                                        ^\n",
      "/Applications/JuliaPro-0.6.0.1.app/Contents/Resources/pkgs-0.6.0.1/v0.6/Homebrew/deps/usr/Library/Taps/homebrew/homebrew-core/Formula/pixman.rb:38: syntax error, unexpected '}', expecting keyword_end\n",
      "Error: libffi: /Applications/JuliaPro-0.6.0.1.app/Contents/Resources/pkgs-0.6.0.1/v0.6/Homebrew/deps/usr/Library/Taps/homebrew/homebrew-core/Formula/libffi.rb:38: target of repeat operator is not specified: /* Acts like puts with the file given at time of enclosure. */\n",
      "/Applications/JuliaPro-0.6.0.1.app/Contents/Resources/pkgs-0.6.0.1/v0.6/Homebrew/deps/usr/Library/Taps/homebrew/homebrew-core/Formula/libffi.rb:39: syntax error, unexpected tIDENTIFIER, expecting keyword_do or '{' or '('\n",
      "      void puts_binding(ffi_cif *cif, unsigned int *ret, void* args[],\n",
      "                                                  ^\n",
      "/Applications/JuliaPro-0.6.0.1.app/Contents/Resources/pkgs-0.6.0.1/v0.6/Homebrew/deps/usr/Library/Taps/homebrew/homebrew-core/Formula/libffi.rb:40: syntax error, unexpected *, expecting keyword_do or '{' or '('\n",
      "                        FILE *stream)\n",
      "                              ^\n",
      "/Applications/JuliaPro-0.6.0.1.app/Contents/Resources/pkgs-0.6.0.1/v0.6/Homebrew/deps/usr/Library/Taps/homebrew/homebrew-core/Formula/libffi.rb:42: syntax error, unexpected ')'\n",
      "        *ret = fputs(*(char **)args[0], stream);\n",
      "                               ^\n",
      "/Applications/JuliaPro-0.6.0.1.app/Contents/Resources/pkgs-0.6.0.1/v0.6/Homebrew/deps/usr/Library/Taps/homebrew/homebrew-core/Formula/libffi.rb:42: syntax error, unexpected ')', expecting '='\n",
      "        *ret = fputs(*(char **)args[0], stream);\n",
      "                                               ^\n",
      "/Applications/JuliaPro-0.6.0.1.app/Contents/Resources/pkgs-0.6.0.1/v0.6/Homebrew/deps/usr/Library/Taps/homebrew/homebrew-core/Formula/libffi.rb:47: syntax error, unexpected tIDENTIFIER, expecting keyword_do or '{' or '('\n",
      "        ffi_cif cif;\n",
      "                   ^\n",
      "/Applications/JuliaPro-0.6.0.1.app/Contents/Resources/pkgs-0.6.0.1/v0.6/Homebrew/deps/usr/Library/Taps/homebrew/homebrew-core/Formula/libffi.rb:51: syntax error, unexpected *\n",
      "        int (*bound_puts)(char *);\n",
      "              ^\n",
      "target of repeat operator is not specified: /* Allocate closure and bound_puts */\n",
      "target of repeat operator is not specified: /* Initialize the argument info vectors */\n",
      "/Applications/JuliaPro-0.6.0.1.app/Contents/Resources/pkgs-0.6.0.1/v0.6/Homebrew/deps/usr/Library/Taps/homebrew/homebrew-core/Formula/libffi.rb:59: syntax error, unexpected '\\n', expecting =>\n",
      "/Applications/JuliaPro-0.6.0.1.app/Contents/Resources/pkgs-0.6.0.1/v0.6/Homebrew/deps/usr/Library/Taps/homebrew/homebrew-core/Formula/libffi.rb:60: syntax error, unexpected &\n",
      "            args[0] = &ffi_type_pointer;\n",
      "                       ^\n",
      "target of repeat operator is not specified: /* Initialize the cif */\n",
      "/Applications/JuliaPro-0.6.0.1.app/Contents/Resources/pkgs-0.6.0.1/v0.6/Homebrew/deps/usr/Library/Taps/homebrew/homebrew-core/Formula/libffi.rb:63: syntax error, unexpected ',', expecting ')'\n",
      "            if (ffi_prep_cif(&cif, FFI_DEFAULT_ABI, 1,\n",
      "                                  ^\n",
      "/Applications/JuliaPro-0.6.0.1.app/Contents/Resources/pkgs-0.6.0.1/v0.6/Homebrew/deps/usr/Library/Taps/homebrew/homebrew-core/Formula/libffi.rb:63: syntax error, unexpected ',', expecting :: or '[' or '.'\n",
      "/Applications/JuliaPro-0.6.0.1.app/Contents/Resources/pkgs-0.6.0.1/v0.6/Homebrew/deps/usr/Library/Taps/homebrew/homebrew-core/Formula/libffi.rb:64: syntax error, unexpected ')', expecting '='\n",
      "                             &ffi_type_uint, args) == FFI_OK)\n",
      "                                                  ^\n",
      "target of repeat operator is not specified: /* Initialize the closure, setting stream to stdout */\n",
      "/Applications/JuliaPro-0.6.0.1.app/Contents/Resources/pkgs-0.6.0.1/v0.6/Homebrew/deps/usr/Library/Taps/homebrew/homebrew-core/Formula/libffi.rb:66: syntax error, unexpected '\\n', expecting =>\n",
      "/Applications/JuliaPro-0.6.0.1.app/Contents/Resources/pkgs-0.6.0.1/v0.6/Homebrew/deps/usr/Library/Taps/homebrew/homebrew-core/Formula/libffi.rb:67: syntax error, unexpected ',', expecting ')'\n",
      "                if (ffi_prep_closure_loc(closure, &cif, puts_binding,\n",
      "                                                       ^\n",
      "/Applications/JuliaPro-0.6.0.1.app/Contents/Resources/pkgs-0.6.0.1/v0.6/Homebrew/deps/usr/Library/Taps/homebrew/homebrew-core/Formula/libffi.rb:68: syntax error, unexpected ')', expecting '='\n",
      "...            stdout, bound_puts) == FFI_OK)\n",
      "...                               ^\n",
      "/Applications/JuliaPro-0.6.0.1.app/Contents/Resources/pkgs-0.6.0.1/v0.6/Homebrew/deps/usr/Library/Taps/homebrew/homebrew-core/Formula/libffi.rb:70: syntax error, unexpected ';', expecting =>\n",
      "target of repeat operator is not specified: /* rc now holds the result of the call to fputs */\n",
      "/Applications/JuliaPro-0.6.0.1.app/Contents/Resources/pkgs-0.6.0.1/v0.6/Homebrew/deps/usr/Library/Taps/homebrew/homebrew-core/Formula/libffi.rb:72: syntax error, unexpected '}', expecting keyword_end\n",
      "target of repeat operator is not specified: /* Deallocate both closure, and bound_puts */\n",
      "/Applications/JuliaPro-0.6.0.1.app/Contents/Resources/pkgs-0.6.0.1/v0.6/Homebrew/deps/usr/Library/Taps/homebrew/homebrew-core/Formula/libffi.rb:80: syntax error, unexpected '}', expecting keyword_end\n",
      "/Applications/JuliaPro-0.6.0.1.app/Contents/Resources/pkgs-0.6.0.1/v0.6/Homebrew/deps/usr/Library/Taps/homebrew/homebrew-core/Formula/libffi.rb:87: syntax error, unexpected end-of-input, expecting keyword_end\n"
     ]
    },
    {
     "name": "stderr",
     "output_type": "stream",
     "text": [
      "Error: glib: /Applications/JuliaPro-0.6.0.1.app/Contents/Resources/pkgs-0.6.0.1/v0.6/Homebrew/deps/usr/Library/Taps/homebrew/homebrew-core/Formula/glib.rb:108: syntax error, unexpected *, expecting keyword_do or '{' or '('\n",
      "          gchar *result_1, *result_2;\n",
      "                 ^\n",
      "/Applications/JuliaPro-0.6.0.1.app/Contents/Resources/pkgs-0.6.0.1/v0.6/Homebrew/deps/usr/Library/Taps/homebrew/homebrew-core/Formula/glib.rb:108: syntax error, unexpected *\n",
      "          gchar *result_1, *result_2;\n",
      "                            ^\n",
      "/Applications/JuliaPro-0.6.0.1.app/Contents/Resources/pkgs-0.6.0.1/v0.6/Homebrew/deps/usr/Library/Taps/homebrew/homebrew-core/Formula/glib.rb:115: syntax error, unexpected '}', expecting keyword_end\n",
      "Error: cairo: /Applications/JuliaPro-0.6.0.1.app/Contents/Resources/pkgs-0.6.0.1/v0.6/Homebrew/deps/usr/Library/Taps/homebrew/homebrew-core/Formula/cairo.rb:59: syntax error, unexpected *, expecting keyword_do or '{' or '('\n",
      "      int main(int argc, char *argv[]) {\n",
      "                               ^\n",
      "/Applications/JuliaPro-0.6.0.1.app/Contents/Resources/pkgs-0.6.0.1/v0.6/Homebrew/deps/usr/Library/Taps/homebrew/homebrew-core/Formula/cairo.rb:59: syntax error, unexpected ')', expecting '='\n",
      "      int main(int argc, char *argv[]) {\n",
      "                                      ^\n",
      "/Applications/JuliaPro-0.6.0.1.app/Contents/Resources/pkgs-0.6.0.1/v0.6/Homebrew/deps/usr/Library/Taps/homebrew/homebrew-core/Formula/cairo.rb:65: syntax error, unexpected '}', expecting keyword_end\n",
      "Error: pango: /Applications/JuliaPro-0.6.0.1.app/Contents/Resources/pkgs-0.6.0.1/v0.6/Homebrew/deps/usr/Library/Taps/homebrew/homebrew-core/Formula/pango.rb:49: syntax error, unexpected *, expecting keyword_do or '{' or '('\n",
      "      int main(int argc, char *argv[]) {\n",
      "                               ^\n",
      "/Applications/JuliaPro-0.6.0.1.app/Contents/Resources/pkgs-0.6.0.1/v0.6/Homebrew/deps/usr/Library/Taps/homebrew/homebrew-core/Formula/pango.rb:49: syntax error, unexpected ')', expecting '='\n",
      "      int main(int argc, char *argv[]) {\n",
      "                                      ^\n",
      "/Applications/JuliaPro-0.6.0.1.app/Contents/Resources/pkgs-0.6.0.1/v0.6/Homebrew/deps/usr/Library/Taps/homebrew/homebrew-core/Formula/pango.rb:54: syntax error, unexpected ',', expecting ')'\n",
      "...ont_map_list_families (fontmap, &families, &n_families);\n",
      "...                               ^\n",
      "/Applications/JuliaPro-0.6.0.1.app/Contents/Resources/pkgs-0.6.0.1/v0.6/Homebrew/deps/usr/Library/Taps/homebrew/homebrew-core/Formula/pango.rb:57: syntax error, unexpected '}', expecting keyword_end\n",
      "Error: pango: /Applications/JuliaPro-0.6.0.1.app/Contents/Resources/pkgs-0.6.0.1/v0.6/Homebrew/deps/usr/Library/Taps/homebrew/homebrew-core/Formula/pango.rb:49: syntax error, unexpected *, expecting keyword_do or '{' or '('\n",
      "      int main(int argc, char *argv[]) {\n",
      "                               ^\n",
      "/Applications/JuliaPro-0.6.0.1.app/Contents/Resources/pkgs-0.6.0.1/v0.6/Homebrew/deps/usr/Library/Taps/homebrew/homebrew-core/Formula/pango.rb:49: syntax error, unexpected ')', expecting '='\n",
      "      int main(int argc, char *argv[]) {\n",
      "                                      ^\n",
      "/Applications/JuliaPro-0.6.0.1.app/Contents/Resources/pkgs-0.6.0.1/v0.6/Homebrew/deps/usr/Library/Taps/homebrew/homebrew-core/Formula/pango.rb:54: syntax error, unexpected ',', expecting ')'\n",
      "...ont_map_list_families (fontmap, &families, &n_families);\n",
      "...                               ^\n",
      "/Applications/JuliaPro-0.6.0.1.app/Contents/Resources/pkgs-0.6.0.1/v0.6/Homebrew/deps/usr/Library/Taps/homebrew/homebrew-core/Formula/pango.rb:57: syntax error, unexpected '}', expecting keyword_end\n",
      "Error: glib: /Applications/JuliaPro-0.6.0.1.app/Contents/Resources/pkgs-0.6.0.1/v0.6/Homebrew/deps/usr/Library/Taps/homebrew/homebrew-core/Formula/glib.rb:108: syntax error, unexpected *, expecting keyword_do or '{' or '('\n",
      "          gchar *result_1, *result_2;\n",
      "                 ^\n",
      "/Applications/JuliaPro-0.6.0.1.app/Contents/Resources/pkgs-0.6.0.1/v0.6/Homebrew/deps/usr/Library/Taps/homebrew/homebrew-core/Formula/glib.rb:108: syntax error, unexpected *\n",
      "          gchar *result_1, *result_2;\n",
      "                            ^\n",
      "/Applications/JuliaPro-0.6.0.1.app/Contents/Resources/pkgs-0.6.0.1/v0.6/Homebrew/deps/usr/Library/Taps/homebrew/homebrew-core/Formula/glib.rb:115: syntax error, unexpected '}', expecting keyword_end\n",
      "Error: libpng: /Applications/JuliaPro-0.6.0.1.app/Contents/Resources/pkgs-0.6.0.1/v0.6/Homebrew/deps/usr/Library/Taps/homebrew/homebrew-core/Formula/libpng.rb:40: syntax error, unexpected tIDENTIFIER, expecting keyword_do or '{' or '('\n",
      "        png_structp png_ptr;\n",
      "                           ^\n",
      "/Applications/JuliaPro-0.6.0.1.app/Contents/Resources/pkgs-0.6.0.1/v0.6/Homebrew/deps/usr/Library/Taps/homebrew/homebrew-core/Formula/libpng.rb:42: syntax error, unexpected ',', expecting ')'\n",
      "        png_destroy_write_struct(&png_ptr, (png_infopp)NULL);\n",
      "                                          ^\n",
      "/Applications/JuliaPro-0.6.0.1.app/Contents/Resources/pkgs-0.6.0.1/v0.6/Homebrew/deps/usr/Library/Taps/homebrew/homebrew-core/Formula/libpng.rb:42: syntax error, unexpected tCONSTANT, expecting keyword_end\n",
      "        png_destroy_write_struct(&png_ptr, (png_infopp)NULL);\n",
      "                                                           ^\n",
      "/Applications/JuliaPro-0.6.0.1.app/Contents/Resources/pkgs-0.6.0.1/v0.6/Homebrew/deps/usr/Library/Taps/homebrew/homebrew-core/Formula/libpng.rb:44: syntax error, unexpected '}', expecting keyword_end\n",
      "Error: pixman: /Applications/JuliaPro-0.6.0.1.app/Contents/Resources/pkgs-0.6.0.1/v0.6/Homebrew/deps/usr/Library/Taps/homebrew/homebrew-core/Formula/pixman.rb:32: syntax error, unexpected *, expecting keyword_do or '{' or '('\n",
      "      int main(int argc, char *argv[])\n",
      "                               ^\n",
      "/Applications/JuliaPro-0.6.0.1.app/Contents/Resources/pkgs-0.6.0.1/v0.6/Homebrew/deps/usr/Library/Taps/homebrew/homebrew-core/Formula/pixman.rb:32: syntax error, unexpected ')', expecting '='\n",
      "/Applications/JuliaPro-0.6.0.1.app/Contents/Resources/pkgs-0.6.0.1/v0.6/Homebrew/deps/usr/Library/Taps/homebrew/homebrew-core/Formula/pixman.rb:34: syntax error, unexpected ',', expecting =>\n",
      "        pixman_color_t white = { 0xffff, 0xffff, 0xffff, 0xffff };\n",
      "                                        ^\n",
      "/Applications/JuliaPro-0.6.0.1.app/Contents/Resources/pkgs-0.6.0.1/v0.6/Homebrew/deps/usr/Library/Taps/homebrew/homebrew-core/Formula/pixman.rb:38: syntax error, unexpected '}', expecting keyword_end\n",
      "Error: libffi: /Applications/JuliaPro-0.6.0.1.app/Contents/Resources/pkgs-0.6.0.1/v0.6/Homebrew/deps/usr/Library/Taps/homebrew/homebrew-core/Formula/libffi.rb:38: target of repeat operator is not specified: /* Acts like puts with the file given at time of enclosure. */\n",
      "/Applications/JuliaPro-0.6.0.1.app/Contents/Resources/pkgs-0.6.0.1/v0.6/Homebrew/deps/usr/Library/Taps/homebrew/homebrew-core/Formula/libffi.rb:39: syntax error, unexpected tIDENTIFIER, expecting keyword_do or '{' or '('\n",
      "      void puts_binding(ffi_cif *cif, unsigned int *ret, void* args[],\n",
      "                                                  ^\n",
      "/Applications/JuliaPro-0.6.0.1.app/Contents/Resources/pkgs-0.6.0.1/v0.6/Homebrew/deps/usr/Library/Taps/homebrew/homebrew-core/Formula/libffi.rb:40: syntax error, unexpected *, expecting keyword_do or '{' or '('\n",
      "                        FILE *stream)\n",
      "                              ^\n",
      "/Applications/JuliaPro-0.6.0.1.app/Contents/Resources/pkgs-0.6.0.1/v0.6/Homebrew/deps/usr/Library/Taps/homebrew/homebrew-core/Formula/libffi.rb:42: syntax error, unexpected ')'\n",
      "        *ret = fputs(*(char **)args[0], stream);\n",
      "                               ^\n",
      "/Applications/JuliaPro-0.6.0.1.app/Contents/Resources/pkgs-0.6.0.1/v0.6/Homebrew/deps/usr/Library/Taps/homebrew/homebrew-core/Formula/libffi.rb:42: syntax error, unexpected ')', expecting '='\n",
      "        *ret = fputs(*(char **)args[0], stream);\n",
      "                                               ^\n",
      "/Applications/JuliaPro-0.6.0.1.app/Contents/Resources/pkgs-0.6.0.1/v0.6/Homebrew/deps/usr/Library/Taps/homebrew/homebrew-core/Formula/libffi.rb:47: syntax error, unexpected tIDENTIFIER, expecting keyword_do or '{' or '('\n",
      "        ffi_cif cif;\n",
      "                   ^\n",
      "/Applications/JuliaPro-0.6.0.1.app/Contents/Resources/pkgs-0.6.0.1/v0.6/Homebrew/deps/usr/Library/Taps/homebrew/homebrew-core/Formula/libffi.rb:51: syntax error, unexpected *\n",
      "        int (*bound_puts)(char *);\n",
      "              ^\n",
      "target of repeat operator is not specified: /* Allocate closure and bound_puts */\n",
      "target of repeat operator is not specified: /* Initialize the argument info vectors */\n",
      "/Applications/JuliaPro-0.6.0.1.app/Contents/Resources/pkgs-0.6.0.1/v0.6/Homebrew/deps/usr/Library/Taps/homebrew/homebrew-core/Formula/libffi.rb:59: syntax error, unexpected '\\n', expecting =>\n",
      "/Applications/JuliaPro-0.6.0.1.app/Contents/Resources/pkgs-0.6.0.1/v0.6/Homebrew/deps/usr/Library/Taps/homebrew/homebrew-core/Formula/libffi.rb:60: syntax error, unexpected &\n",
      "            args[0] = &ffi_type_pointer;\n",
      "                       ^\n",
      "target of repeat operator is not specified: /* Initialize the cif */\n",
      "/Applications/JuliaPro-0.6.0.1.app/Contents/Resources/pkgs-0.6.0.1/v0.6/Homebrew/deps/usr/Library/Taps/homebrew/homebrew-core/Formula/libffi.rb:63: syntax error, unexpected ',', expecting ')'\n",
      "            if (ffi_prep_cif(&cif, FFI_DEFAULT_ABI, 1,\n",
      "                                  ^\n",
      "/Applications/JuliaPro-0.6.0.1.app/Contents/Resources/pkgs-0.6.0.1/v0.6/Homebrew/deps/usr/Library/Taps/homebrew/homebrew-core/Formula/libffi.rb:63: syntax error, unexpected ',', expecting :: or '[' or '.'\n",
      "/Applications/JuliaPro-0.6.0.1.app/Contents/Resources/pkgs-0.6.0.1/v0.6/Homebrew/deps/usr/Library/Taps/homebrew/homebrew-core/Formula/libffi.rb:64: syntax error, unexpected ')', expecting '='\n",
      "                             &ffi_type_uint, args) == FFI_OK)\n",
      "                                                  ^\n",
      "target of repeat operator is not specified: /* Initialize the closure, setting stream to stdout */\n",
      "/Applications/JuliaPro-0.6.0.1.app/Contents/Resources/pkgs-0.6.0.1/v0.6/Homebrew/deps/usr/Library/Taps/homebrew/homebrew-core/Formula/libffi.rb:66: syntax error, unexpected '\\n', expecting =>\n",
      "/Applications/JuliaPro-0.6.0.1.app/Contents/Resources/pkgs-0.6.0.1/v0.6/Homebrew/deps/usr/Library/Taps/homebrew/homebrew-core/Formula/libffi.rb:67: syntax error, unexpected ',', expecting ')'\n",
      "                if (ffi_prep_closure_loc(closure, &cif, puts_binding,\n",
      "                                                       ^\n",
      "/Applications/JuliaPro-0.6.0.1.app/Contents/Resources/pkgs-0.6.0.1/v0.6/Homebrew/deps/usr/Library/Taps/homebrew/homebrew-core/Formula/libffi.rb:68: syntax error, unexpected ')', expecting '='\n",
      "...            stdout, bound_puts) == FFI_OK)\n",
      "...                               ^\n",
      "/Applications/JuliaPro-0.6.0.1.app/Contents/Resources/pkgs-0.6.0.1/v0.6/Homebrew/deps/usr/Library/Taps/homebrew/homebrew-core/Formula/libffi.rb:70: syntax error, unexpected ';', expecting =>\n",
      "target of repeat operator is not specified: /* rc now holds the result of the call to fputs */\n",
      "/Applications/JuliaPro-0.6.0.1.app/Contents/Resources/pkgs-0.6.0.1/v0.6/Homebrew/deps/usr/Library/Taps/homebrew/homebrew-core/Formula/libffi.rb:72: syntax error, unexpected '}', expecting keyword_end\n",
      "target of repeat operator is not specified: /* Deallocate both closure, and bound_puts */\n",
      "/Applications/JuliaPro-0.6.0.1.app/Contents/Resources/pkgs-0.6.0.1/v0.6/Homebrew/deps/usr/Library/Taps/homebrew/homebrew-core/Formula/libffi.rb:80: syntax error, unexpected '}', expecting keyword_end\n",
      "/Applications/JuliaPro-0.6.0.1.app/Contents/Resources/pkgs-0.6.0.1/v0.6/Homebrew/deps/usr/Library/Taps/homebrew/homebrew-core/Formula/libffi.rb:87: syntax error, unexpected end-of-input, expecting keyword_end\n"
     ]
    },
    {
     "name": "stderr",
     "output_type": "stream",
     "text": [
      "Error: glib: /Applications/JuliaPro-0.6.0.1.app/Contents/Resources/pkgs-0.6.0.1/v0.6/Homebrew/deps/usr/Library/Taps/homebrew/homebrew-core/Formula/glib.rb:108: syntax error, unexpected *, expecting keyword_do or '{' or '('\n",
      "          gchar *result_1, *result_2;\n",
      "                 ^\n",
      "/Applications/JuliaPro-0.6.0.1.app/Contents/Resources/pkgs-0.6.0.1/v0.6/Homebrew/deps/usr/Library/Taps/homebrew/homebrew-core/Formula/glib.rb:108: syntax error, unexpected *\n",
      "          gchar *result_1, *result_2;\n",
      "                            ^\n",
      "/Applications/JuliaPro-0.6.0.1.app/Contents/Resources/pkgs-0.6.0.1/v0.6/Homebrew/deps/usr/Library/Taps/homebrew/homebrew-core/Formula/glib.rb:115: syntax error, unexpected '}', expecting keyword_end\n",
      "\u001b[1m\u001b[36mINFO: \u001b[39m\u001b[22m\u001b[36mAttempting to Create directory /Applications/JuliaPro-0.6.0.1.app/Contents/Resources/pkgs-0.6.0.1/v0.6/Cairo/deps/downloads\n",
      "\u001b[39m\u001b[1m\u001b[36mINFO: \u001b[39m\u001b[22m\u001b[36mDirectory /Applications/JuliaPro-0.6.0.1.app/Contents/Resources/pkgs-0.6.0.1/v0.6/Cairo/deps/downloads already created\n",
      "\u001b[39m\u001b[1m\u001b[36mINFO: \u001b[39m\u001b[22m\u001b[36mDownloading file http://ftp.gnome.org/pub/gnome/sources/glib/2.34/glib-2.34.3.tar.xz\n",
      "\u001b[39m\u001b[1m\u001b[36mINFO: \u001b[39m\u001b[22m\u001b[36mDone downloading file http://ftp.gnome.org/pub/gnome/sources/glib/2.34/glib-2.34.3.tar.xz\n",
      "\u001b[39m\u001b[1m\u001b[36mINFO: \u001b[39m\u001b[22m\u001b[36mAttempting to Create directory /Applications/JuliaPro-0.6.0.1.app/Contents/Resources/pkgs-0.6.0.1/v0.6/Cairo/deps/src\n",
      "\u001b[39m\u001b[1m\u001b[36mINFO: \u001b[39m\u001b[22m\u001b[36mDirectory /Applications/JuliaPro-0.6.0.1.app/Contents/Resources/pkgs-0.6.0.1/v0.6/Cairo/deps/src already created\n",
      "\u001b[39m\u001b[1m\u001b[36mINFO: \u001b[39m\u001b[22m\u001b[36mAttempting to Create directory /Applications/JuliaPro-0.6.0.1.app/Contents/Resources/pkgs-0.6.0.1/v0.6/Cairo/deps\n",
      "\u001b[39m\u001b[1m\u001b[36mINFO: \u001b[39m\u001b[22m\u001b[36mDirectory /Applications/JuliaPro-0.6.0.1.app/Contents/Resources/pkgs-0.6.0.1/v0.6/Cairo/deps already created\n",
      "\u001b[39m\u001b[1m\u001b[36mINFO: \u001b[39m\u001b[22m\u001b[36mPath /Applications/JuliaPro-0.6.0.1.app/Contents/Resources/pkgs-0.6.0.1/v0.6/Cairo/deps/src/glib-2.34.3 already created\n",
      "\u001b[39m\u001b[1m\u001b[36mINFO: \u001b[39m\u001b[22m\u001b[36mAttempting to Create directory /Applications/JuliaPro-0.6.0.1.app/Contents/Resources/pkgs-0.6.0.1/v0.6/Cairo/deps/builds/gobject\n",
      "\u001b[39m\u001b[1m\u001b[36mINFO: \u001b[39m\u001b[22m\u001b[36mDirectory /Applications/JuliaPro-0.6.0.1.app/Contents/Resources/pkgs-0.6.0.1/v0.6/Cairo/deps/builds/gobject already created\n",
      "\u001b[39m\u001b[1m\u001b[36mINFO: \u001b[39m\u001b[22m\u001b[36mChanging Directory to /Applications/JuliaPro-0.6.0.1.app/Contents/Resources/pkgs-0.6.0.1/v0.6/Cairo/deps/builds/gobject\n",
      "\u001b[39mreadlink: illegal option -- f\n",
      "usage: readlink [-n] [file ...]\n",
      "configure: error: in `/Applications/JuliaPro-0.6.0.1.app/Contents/Resources/pkgs-0.6.0.1/v0.6/Cairo/deps/builds/gobject':\n",
      "configure: error: The pkg-config script could not be found or is too old.  Make sure it\n",
      "is in your PATH or set the PKG_CONFIG environment variable to the full\n",
      "path to pkg-config.\n",
      "\n",
      "Alternatively, you may set the environment variables LIBFFI_CFLAGS\n",
      "and LIBFFI_LIBS to avoid the need to call pkg-config.\n",
      "See the pkg-config man page for more details.\n",
      "\n",
      "To get pkg-config, see <http://pkg-config.freedesktop.org/>.\n",
      "See `config.log' for more details\n",
      "\u001b[1m\u001b[33m\u001b[39m\u001b[22m\u001b[33m================================[ ERROR: Cairo ]================================\u001b[39m\n",
      "\n",
      "\u001b[1m\u001b[33m\u001b[39m\u001b[22m\u001b[33mLoadError: \u001b[91mfailed process: Process(setenv(`/Applications/JuliaPro-0.6.0.1.app/Contents/Resources/pkgs-0.6.0.1/v0.6/Cairo/deps/src/glib-2.34.3/configure --prefix=/Applications/JuliaPro-0.6.0.1.app/Contents/Resources/pkgs-0.6.0.1/v0.6/Cairo/deps/usr`,String[\"XPC_FLAGS=0x0\", \"PYTHON=/usr/bin/python\", \"PATH=/Applications/JuliaPro-0.6.0.1.app/Contents/Resources/pkgs-0.6.0.1/v0.6/Cairo/deps/usr/bin:/Applications/JuliaPro-0.6.0.1.app/Contents/Resources/pkgs-0.6.0.1/v0.6/Homebrew/deps/usr/bin:/Applications/JuliaPro-0.6.0.1.app/Contents/Resources/pkgs-0.6.0.1/v0.6/Homebrew/deps/usr/sbin:/Applications/JuliaPro-0.6.0.1.app/Contents/Resources/julia/Contents/Resources/julia/bin:/Applications/JuliaPro-0.6.0.1.app/Contents/Resources/julia/Contents/Resources/julia/bin:/Applications/JuliaPro-0.6.0.1.app/Contents/Resources/julia/Contents/Resources/julia/bin:/Users/btvincent/anaconda/bin:/Users/btvincent/anaconda/bin:/usr/local/bin:/usr/bin:/bin:/usr/sbin:/sbin:/Library/TeX/texbin\", \"PWD=/Users/btvincent/git-local/bayesian2afc-julia\", \"JULIA_PKGDIR=/Applications/JuliaPro-0.6.0.1.app/Contents/Resources/julia/Contents/Resources/julia/../../../../pkgs-0.6.0.1\", \"XPC_SERVICE_NAME=0\", \"TERM_PROGRAM=Apple_Terminal\", \"JUPYTER=/Users/btvincent/Library/Python/3.6/bin/jupyter\", \"COLUMNS=80\", \"SHELL=/bin/bash\", \"__CF_USER_TEXT_ENCODING=0x13FFC4E5:0x0:0x2\", \"JPY_PARENT_PID=49656\", \"TMPDIR=/var/folders/kg/zw9sf78j0bqdjdm4dg4g9lr09zzj75/T/\", \"TK_LIBRARY=/System/Library/Frameworks/Tk.framework/Versions/8.5/Resources/Scripts\", \"HOMEBREW_CACHE=/Users/btvincent/Library/Caches/Homebrew.jl/\", \"CPPFLAGS= -I/Applications/JuliaPro-0.6.0.1.app/Contents/Resources/pkgs-0.6.0.1/v0.6/Cairo/deps/usr/include\", \"FONTCONFIG_PATH=/Applications/JuliaPro-0.6.0.1.app/Contents/Resources/julia/Contents/Resources/julia/etc/fonts\", \"LANG=en_GB.UTF-8\", \"LDFLAGS= -L/Applications/JuliaPro-0.6.0.1.app/Contents/Resources/pkgs-0.6.0.1/v0.6/Cairo/deps/usr/lib -Wl,-rpath -Wl,/Applications/JuliaPro-0.6.0.1.app/Contents/Resources/pkgs-0.6.0.1/v0.6/Cairo/deps/usr/lib\", \"SHLVL=1\", \"LOGNAME=btvincent\", \"OLDPWD=/Users/btvincent\", \"TERM_SESSION_ID=EB4CCC40-1F6C-49B0-B12C-B07C50CC0E61\", \"SSH_AUTH_SOCK=/private/tmp/com.apple.launchd.ZyrlmGijuH/Listeners\", \"PKG_CONFIG_PATH=/Applications/JuliaPro-0.6.0.1.app/Contents/Resources/pkgs-0.6.0.1/v0.6/Cairo/deps/usr/lib/pkgconfig\", \"_=/Users/btvincent/anaconda/bin/jupyter\", \"GADFLY_THEME=dark\", \"Apple_PubSub_Socket_Render=/private/tmp/com.apple.launchd.b0GETDvXSu/Render\", \"LINES=30\", \"USER=btvincent\", \"HOMEBREW_NO_AUTO_UPDATE=1\", \"TERM=xterm-256color\", \"HOME=/Users/btvincent\", \"TERM_PROGRAM_VERSION=388.1.1\", \"OPENBLAS_MAIN_FREE=1\", \"HOMEBREW_NO_ANALYTICS=1\"]), ProcessExited(1)) [1]\u001b[39m\n",
      "while loading /Applications/JuliaPro-0.6.0.1.app/Contents/Resources/pkgs-0.6.0.1/v0.6/Cairo/deps/build.jl, in expression starting on line 162\u001b[39m\n",
      "\n",
      "\u001b[1m\u001b[33m\u001b[39m\u001b[22m\u001b[33m================================================================================\u001b[39m\n",
      "\u001b[1m\u001b[36mINFO: \u001b[39m\u001b[22m\u001b[36mBuilding Turing\n",
      "\u001b[39m\n",
      "\u001b[1m\u001b[33m\u001b[39m\u001b[22m\u001b[33m================================[ BUILD ERRORS ]================================\u001b[39m\n",
      "\n",
      "\u001b[1m\u001b[33m\u001b[39m\u001b[22m\u001b[33mWARNING: Cairo had build errors.\n",
      "\n",
      " - packages with build errors remain installed in /Applications/JuliaPro-0.6.0.1.app/Contents/Resources/pkgs-0.6.0.1/v0.6\n",
      " - build the package(s) and all dependencies with `Pkg.build(\"Cairo\")`\n",
      " - build a single package by running its `deps/build.jl` script\u001b[39m\n",
      "\n",
      "\u001b[1m\u001b[33m\u001b[39m\u001b[22m\u001b[33m================================================================================\u001b[39m\n"
     ]
    }
   ],
   "source": [
    "Pkg.checkout(\"Turing\", \"master\") \n",
    "Pkg.build(\"Turing\")"
   ]
  },
  {
   "cell_type": "code",
   "execution_count": null,
   "metadata": {},
   "outputs": [],
   "source": []
  },
  {
   "cell_type": "code",
   "execution_count": null,
   "metadata": {
    "collapsed": true
   },
   "outputs": [],
   "source": [
    "\n",
    "Pkg.build(\"Turing\")\n",
    "\n",
    "Pkg.test(\"Turing\")"
   ]
  },
  {
   "cell_type": "markdown",
   "metadata": {},
   "source": [
    "Setup packages we'll use"
   ]
  },
  {
   "cell_type": "code",
   "execution_count": 3,
   "metadata": {
    "collapsed": true
   },
   "outputs": [],
   "source": [
    "using Distributions, StatsFuns"
   ]
  },
  {
   "cell_type": "code",
   "execution_count": 4,
   "metadata": {
    "collapsed": true
   },
   "outputs": [],
   "source": [
    "using Mamba: describe, plot"
   ]
  },
  {
   "cell_type": "code",
   "execution_count": 5,
   "metadata": {},
   "outputs": [
    {
     "name": "stderr",
     "output_type": "stream",
     "text": [
      "\u001b[1m\u001b[36mINFO: \u001b[39m\u001b[22m\u001b[36mPrecompiling module Documenter.\n",
      "\u001b[39m\u001b[1m\u001b[91mERROR: \u001b[39m\u001b[22mLoadError: LoadError: \u001b[91mUndefVarError: AbstractRange not defined\u001b[39m\n",
      "Stacktrace:\n",
      " [1] \u001b[1minclude_from_node1\u001b[22m\u001b[22m\u001b[1m(\u001b[22m\u001b[22m::String\u001b[1m)\u001b[22m\u001b[22m at \u001b[1m./loading.jl:569\u001b[22m\u001b[22m\n",
      " [2] \u001b[1minclude\u001b[22m\u001b[22m\u001b[1m(\u001b[22m\u001b[22m::String\u001b[1m)\u001b[22m\u001b[22m at \u001b[1m./sysimg.jl:14\u001b[22m\u001b[22m\n",
      " [3] \u001b[1mmacro expansion\u001b[22m\u001b[22m at \u001b[1m/Applications/JuliaPro-0.6.0.1.app/Contents/Resources/pkgs-0.6.0.1/v0.6/Documenter/src/Documenter.jl:48\u001b[22m\u001b[22m [inlined]\n",
      " [4] \u001b[1manonymous\u001b[22m\u001b[22m at \u001b[1m./<missing>:?\u001b[22m\u001b[22m\n",
      " [5] \u001b[1minclude_from_node1\u001b[22m\u001b[22m\u001b[1m(\u001b[22m\u001b[22m::String\u001b[1m)\u001b[22m\u001b[22m at \u001b[1m./loading.jl:569\u001b[22m\u001b[22m\n",
      " [6] \u001b[1minclude\u001b[22m\u001b[22m\u001b[1m(\u001b[22m\u001b[22m::String\u001b[1m)\u001b[22m\u001b[22m at \u001b[1m./sysimg.jl:14\u001b[22m\u001b[22m\n",
      " [7] \u001b[1manonymous\u001b[22m\u001b[22m at \u001b[1m./<missing>:2\u001b[22m\u001b[22m\n",
      "while loading /Applications/JuliaPro-0.6.0.1.app/Contents/Resources/pkgs-0.6.0.1/v0.6/Documenter/src/Utilities/Utilities.jl, in expression starting on line 581\n",
      "while loading /Applications/JuliaPro-0.6.0.1.app/Contents/Resources/pkgs-0.6.0.1/v0.6/Documenter/src/Documenter.jl, in expression starting on line 30\n"
     ]
    },
    {
     "ename": "LoadError",
     "evalue": "LoadError: LoadError: \u001b[91mFailed to precompile Documenter to /Applications/JuliaPro-0.6.0.1.app/Contents/Resources/pkgs-0.6.0.1/lib/v0.6/Documenter.ji.\u001b[39m\nwhile loading /Applications/JuliaPro-0.6.0.1.app/Contents/Resources/pkgs-0.6.0.1/v0.6/Stan/src/Stan.jl, in expression starting on line 3\nwhile loading /Applications/JuliaPro-0.6.0.1.app/Contents/Resources/pkgs-0.6.0.1/v0.6/Turing/src/Turing.jl, in expression starting on line 14",
     "output_type": "error",
     "traceback": [
      "LoadError: LoadError: \u001b[91mFailed to precompile Documenter to /Applications/JuliaPro-0.6.0.1.app/Contents/Resources/pkgs-0.6.0.1/lib/v0.6/Documenter.ji.\u001b[39m\nwhile loading /Applications/JuliaPro-0.6.0.1.app/Contents/Resources/pkgs-0.6.0.1/v0.6/Stan/src/Stan.jl, in expression starting on line 3\nwhile loading /Applications/JuliaPro-0.6.0.1.app/Contents/Resources/pkgs-0.6.0.1/v0.6/Turing/src/Turing.jl, in expression starting on line 14",
      "",
      "Stacktrace:",
      " [1] \u001b[1mcompilecache\u001b[22m\u001b[22m\u001b[1m(\u001b[22m\u001b[22m::String\u001b[1m)\u001b[22m\u001b[22m at \u001b[1m./loading.jl:703\u001b[22m\u001b[22m",
      " [2] \u001b[1m_require\u001b[22m\u001b[22m\u001b[1m(\u001b[22m\u001b[22m::Symbol\u001b[1m)\u001b[22m\u001b[22m at \u001b[1m./loading.jl:456\u001b[22m\u001b[22m",
      " [3] \u001b[1mrequire\u001b[22m\u001b[22m\u001b[1m(\u001b[22m\u001b[22m::Symbol\u001b[1m)\u001b[22m\u001b[22m at \u001b[1m./loading.jl:398\u001b[22m\u001b[22m",
      " [4] \u001b[1minclude_from_node1\u001b[22m\u001b[22m\u001b[1m(\u001b[22m\u001b[22m::String\u001b[1m)\u001b[22m\u001b[22m at \u001b[1m./loading.jl:569\u001b[22m\u001b[22m",
      " [5] \u001b[1meval\u001b[22m\u001b[22m\u001b[1m(\u001b[22m\u001b[22m::Module, ::Any\u001b[1m)\u001b[22m\u001b[22m at \u001b[1m./boot.jl:235\u001b[22m\u001b[22m",
      " [6] \u001b[1m_require\u001b[22m\u001b[22m\u001b[1m(\u001b[22m\u001b[22m::Symbol\u001b[1m)\u001b[22m\u001b[22m at \u001b[1m./loading.jl:483\u001b[22m\u001b[22m",
      " [7] \u001b[1mrequire\u001b[22m\u001b[22m\u001b[1m(\u001b[22m\u001b[22m::Symbol\u001b[1m)\u001b[22m\u001b[22m at \u001b[1m./loading.jl:398\u001b[22m\u001b[22m",
      " [8] \u001b[1minclude_from_node1\u001b[22m\u001b[22m\u001b[1m(\u001b[22m\u001b[22m::String\u001b[1m)\u001b[22m\u001b[22m at \u001b[1m./loading.jl:569\u001b[22m\u001b[22m",
      " [9] \u001b[1meval\u001b[22m\u001b[22m\u001b[1m(\u001b[22m\u001b[22m::Module, ::Any\u001b[1m)\u001b[22m\u001b[22m at \u001b[1m./boot.jl:235\u001b[22m\u001b[22m",
      " [10] \u001b[1m_require\u001b[22m\u001b[22m\u001b[1m(\u001b[22m\u001b[22m::Symbol\u001b[1m)\u001b[22m\u001b[22m at \u001b[1m./loading.jl:483\u001b[22m\u001b[22m",
      " [11] \u001b[1mrequire\u001b[22m\u001b[22m\u001b[1m(\u001b[22m\u001b[22m::Symbol\u001b[1m)\u001b[22m\u001b[22m at \u001b[1m./loading.jl:398\u001b[22m\u001b[22m"
     ]
    }
   ],
   "source": [
    "using Turing"
   ]
  },
  {
   "cell_type": "code",
   "execution_count": 22,
   "metadata": {},
   "outputs": [
    {
     "ename": "LoadError",
     "evalue": "\u001b[91mUndefVarError: @model not defined\u001b[39m",
     "output_type": "error",
     "traceback": [
      "\u001b[91mUndefVarError: @model not defined\u001b[39m",
      ""
     ]
    }
   ],
   "source": [
    "@model coin_flip(k, T) = begin\n",
    "    # prior\n",
    "    p ~ Uniform(0,1)\n",
    "    # likelihood\n",
    "    k ~ Binomial(T,p) \n",
    "    # posterior prediction\n",
    "    k_pred = rand(Binomial(T,p))\n",
    "    return p, k_pred\n",
    "end\n",
    "\n",
    "samples = sample( coin_flip(80,100), PG(50,300))\n",
    "describe(samples)"
   ]
  }
 ],
 "metadata": {
  "kernelspec": {
   "display_name": "Julia 0.6.0",
   "language": "julia",
   "name": "julia-0.6"
  },
  "language_info": {
   "file_extension": ".jl",
   "mimetype": "application/julia",
   "name": "julia",
   "version": "0.6.0"
  }
 },
 "nbformat": 4,
 "nbformat_minor": 2
}
