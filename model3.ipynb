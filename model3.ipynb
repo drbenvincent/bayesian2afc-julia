{
 "cells": [
  {
   "cell_type": "markdown",
   "metadata": {},
   "source": [
    "# Model 3\n",
    "\n",
    "![Model3](img/model3.png)\n",
    "Taken from Figure 12 of Vincent (2015)."
   ]
  },
  {
   "cell_type": "code",
   "execution_count": 2,
   "metadata": {
    "collapsed": true
   },
   "outputs": [],
   "source": [
    "# use https://github.com/goedman/Jags.jl\n",
    "\n",
    "\n",
    "\n",
    "\n",
    "# model{\n",
    "#     v ~ dunif(0,1000)\n",
    "#     for (c in 1:length(si)){\n",
    "#         for (t in 1:T){\n",
    "#             L[c,t] ~ dcat(pdist)\n",
    "#             for (n in 1:2){\n",
    "#                 x[c,n,t] ~ dnorm( ifelse(n==L[c,t],si[c],0) , 1/v)\n",
    "#             }\n",
    "#         }\n",
    "#     }\n",
    "# }"
   ]
  },
  {
   "cell_type": "markdown",
   "metadata": {},
   "source": [
    "## References\n",
    "Vincent, B. T. (2015). A tutorial on Bayesian models of perception. Journal of Mathematical Psychology, 66, 103–114. http://doi.org/10.1016/j.jmp.2015.02.001"
   ]
  }
 ],
 "metadata": {
  "kernelspec": {
   "display_name": "Julia 0.6.0",
   "language": "julia",
   "name": "julia-0.6"
  },
  "language_info": {
   "file_extension": ".jl",
   "mimetype": "application/julia",
   "name": "julia",
   "version": "0.6.0"
  }
 },
 "nbformat": 4,
 "nbformat_minor": 2
}
