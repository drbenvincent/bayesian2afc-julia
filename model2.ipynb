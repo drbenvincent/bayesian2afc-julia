{
 "cells": [
  {
   "cell_type": "markdown",
   "metadata": {},
   "source": [
    "# Model 2 - MCMC with JAGS\n",
    "\n",
    "![Model2](img/model2.png)\n",
    "Taken from Figure 10 of Vincent (2015)."
   ]
  },
  {
   "cell_type": "markdown",
   "metadata": {},
   "source": [
    "## Define our data"
   ]
  },
  {
   "cell_type": "code",
   "execution_count": null,
   "metadata": {
    "collapsed": true
   },
   "outputs": [],
   "source": [
    "data = Dict()\n",
    "data[\"T\"] = 100\n",
    "data[\"k\"] = [50, 51, 57, 55, 63, 62, 82, 94, 99, 100]\n",
    "data[\"Δμ\"] = [0.0100, 0.0215, 0.0464, 0.1000, 0.2154, 0.4642, 1.0000, 2.1544, 4.6416, 10.0000];"
   ]
  },
  {
   "cell_type": "markdown",
   "metadata": {},
   "source": [
    "## Setup JAGS model"
   ]
  },
  {
   "cell_type": "code",
   "execution_count": null,
   "metadata": {
    "collapsed": true
   },
   "outputs": [],
   "source": [
    "# use https://github.com/goedman/Jags.jl\n",
    "\n",
    "\n",
    "\n",
    "\n",
    "# model{\n",
    "#     bprior  ~ dnorm(0,1/2000) # sampling from prior distribution\n",
    "#     b       ~ dnorm(0,1/2000) # prior over decision bias\n",
    "#     v       ~ dunif(0,1000)   # prior over internal variance\n",
    "#     lr      ~ dbeta(1,1)      # uniform prior over lapse rate\n",
    "\n",
    "#     for (s in 1:length(si)){\n",
    "#         for (t in 1:T){\n",
    "#             L[s,t] ~ dcat(pdist)  # prior over signal location\n",
    "        \n",
    "#             # location 1\n",
    "#             tempMu[s,1,t] <- ifelse(1==L[s,t],si[s],0)\n",
    "#             x[s,1,t] ~ dnorm(tempMu[s,1,t] , 1/v)\n",
    "\n",
    "#             # location 2\n",
    "#             tempMu[s,2,t] <- ifelse(2==L[s,t],si[s],0)\n",
    "#             x[s,2,t] ~ dnorm(tempMu[s,2,t] , 1/v)\n",
    "\n",
    "#             m[s,1,t] <- ifelse(x[s,1,t]-x[s,2,t] > b, 1-(lr/2), (lr/2))\n",
    "#             m[s,2,t] <- ifelse(x[s,1,t]-x[s,2,t] > b, (lr/2), 1-(lr/2))\n",
    "\n",
    "#             R[s,t] ~ dcat(m[s,,t])\n",
    "#             postpredR[s,t] ~ dcat(m[s,,t])\n",
    "#          }\n",
    "#     }\n",
    "# }"
   ]
  },
  {
   "cell_type": "markdown",
   "metadata": {
    "collapsed": true
   },
   "source": [
    "## Invoke sampling\n",
    "We will simultanously sample from the posterior distribution over $\\sigma^2$ as well as the posterior predictive"
   ]
  },
  {
   "cell_type": "code",
   "execution_count": null,
   "metadata": {
    "collapsed": true
   },
   "outputs": [],
   "source": []
  },
  {
   "cell_type": "markdown",
   "metadata": {},
   "source": [
    "# Visualisation\n",
    "Plot data and posterior predictions in data space\n",
    "\n",
    "Plot posterior in parameter space"
   ]
  },
  {
   "cell_type": "code",
   "execution_count": null,
   "metadata": {
    "collapsed": true
   },
   "outputs": [],
   "source": [
    "# TODO - plot histogram of samples"
   ]
  },
  {
   "cell_type": "code",
   "execution_count": null,
   "metadata": {
    "collapsed": true
   },
   "outputs": [],
   "source": [
    "# TODO - calculate summary stats of samples"
   ]
  },
  {
   "cell_type": "markdown",
   "metadata": {},
   "source": [
    "## References\n",
    "Vincent, B. T. (2015). A tutorial on Bayesian models of perception. Journal of Mathematical Psychology, 66, 103–114. http://doi.org/10.1016/j.jmp.2015.02.001"
   ]
  }
 ],
 "metadata": {
  "kernelspec": {
   "display_name": "Julia 0.6.0",
   "language": "julia",
   "name": "julia-0.6"
  },
  "language_info": {
   "file_extension": ".jl",
   "mimetype": "application/julia",
   "name": "julia",
   "version": "0.6.0"
  }
 },
 "nbformat": 4,
 "nbformat_minor": 2
}
